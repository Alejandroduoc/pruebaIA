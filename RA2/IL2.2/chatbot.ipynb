{
 "cells": [
  {
   "cell_type": "code",
   "execution_count": 2,
   "id": "f4ae4c66",
   "metadata": {},
   "outputs": [
    {
     "name": "stdout",
     "output_type": "stream",
     "text": [
      "✅ LLM de LangChain configurado.\n"
     ]
    }
   ],
   "source": [
    "!pip install langchain langchain-openai openai wikipedia -q\n",
    "import os\n",
    "import wikipedia\n",
    "from langchain_openai import ChatOpenAI\n",
    "\n",
    "# Configurar el idioma de Wikipedia\n",
    "wikipedia.set_lang(\"es\")\n",
    "\n",
    "# Configuración del LLM\n",
    "try:\n",
    "    llm = ChatOpenAI(\n",
    "        model=\"gpt-4o\",\n",
    "        openai_api_base=os.environ.get(\"GITHUB_BASE_URL\"),\n",
    "        openai_api_key=os.environ.get(\"GITHUB_TOKEN\"),\n",
    "        temperature=0\n",
    "    )\n",
    "    print(\"✅ LLM de LangChain configurado.\")\n",
    "except Exception as e:\n",
    "    print(f\"❌ Error configurando el LLM: {e}\")\n",
    "    llm = None"
   ]
  },
  {
   "cell_type": "code",
   "execution_count": 3,
   "id": "c9633185",
   "metadata": {},
   "outputs": [
    {
     "name": "stdout",
     "output_type": "stream",
     "text": [
      "✅ Agente y herramientas listos.\n"
     ]
    }
   ],
   "source": [
    "from langchain.agents import tool, create_openai_tools_agent, AgentExecutor\n",
    "from langchain import hub\n",
    "\n",
    "@tool\n",
    "def saludar_usuario(query: str) -> str:\n",
    "    \"\"\"Saludar amablemente al usuairo por su nombre.\"\"\"\n",
    "    \n",
    "    try:\n",
    "        return f\"¡Hola {query}! ¿Cómo estás hoy?\"\n",
    "    except Exception as e:\n",
    "        return f\"Ocurrió un error: {e}\"\n",
    "\n",
    "tools = [saludar_usuario]\n",
    "\n",
    "prompt = hub.pull(\"hwchase17/openai-tools-agent\")\n",
    "\n",
    "agent = create_openai_tools_agent(llm, tools, prompt)\n",
    "agent_executor = AgentExecutor(agent=agent, tools=tools, verbose=True)\n",
    "\n",
    "print(\"✅ Agente y herramientas listos.\")"
   ]
  },
  {
   "cell_type": "code",
   "execution_count": 4,
   "id": "dcab2dcf",
   "metadata": {},
   "outputs": [
    {
     "name": "stderr",
     "output_type": "stream",
     "text": [
      "C:\\Users\\Alejandro\\AppData\\Local\\Temp\\ipykernel_16944\\1927192588.py:4: LangChainDeprecationWarning: Please see the migration guide at: https://python.langchain.com/docs/versions/migrating_memory/\n",
      "  memory_summary = ConversationSummaryMemory(llm=llm, memory_key=\"chat_history\", return_messages=True)\n"
     ]
    }
   ],
   "source": [
    "from langchain.memory import ConversationSummaryMemory\n",
    "\n",
    "# Esta memoria necesita un LLM para hacer los resúmenes\n",
    "memory_summary = ConversationSummaryMemory(llm=llm, memory_key=\"chat_history\", return_messages=True)\n",
    "\n",
    "def chat_with_agent_summary(query: str):\n",
    "    history = memory_summary.load_memory_variables({})[\"chat_history\"]\n",
    "    response = agent_executor.invoke({\"input\": query, \"chat_history\": history})\n",
    "    memory_summary.save_context({\"input\": query}, {\"output\": response[\"output\"]})\n",
    "    return response[\"output\"]"
   ]
  },
  {
   "cell_type": "code",
   "execution_count": 5,
   "id": "d839ee27",
   "metadata": {},
   "outputs": [
    {
     "name": "stdout",
     "output_type": "stream",
     "text": [
      "Pregunta 1: ¿cuanto es 147 + 443?\n",
      "\n",
      "\n",
      "\u001b[1m> Entering new AgentExecutor chain...\u001b[0m\n",
      "\u001b[32;1m\u001b[1;3m147 + 443 es igual a **590**.\u001b[0m\n",
      "\n",
      "\u001b[1m> Finished chain.\u001b[0m\n",
      "Pregunta 2:  ¿cuanto es 915-458?\n",
      "\n",
      "\n",
      "\u001b[1m> Entering new AgentExecutor chain...\u001b[0m\n",
      "\u001b[32;1m\u001b[1;3m915 - 458 es igual a **457**.\u001b[0m\n",
      "\n",
      "\u001b[1m> Finished chain.\u001b[0m\n",
      "Pregunta 3: ¿Sobre qué estábamos hablando?\n",
      "\n",
      "\n",
      "\u001b[1m> Entering new AgentExecutor chain...\u001b[0m\n",
      "\u001b[32;1m\u001b[1;3mEstábamos hablando de cálculos matemáticos. Primero mencionaste una suma (147 + 443 = 590) y luego una resta en español (915 - 458 = 457). ¿Hay algo más en lo que te pueda ayudar?\u001b[0m\n",
      "\n",
      "\u001b[1m> Finished chain.\u001b[0m\n",
      "Respuesta 3: Estábamos hablando de cálculos matemáticos. Primero mencionaste una suma (147 + 443 = 590) y luego una resta en español (915 - 458 = 457). ¿Hay algo más en lo que te pueda ayudar?\n"
     ]
    }
   ],
   "source": [
    "print(\"Pregunta 1: ¿cuanto es 147 + 443?\")\n",
    "chat_with_agent_summary(\"cuanto es 147 + 443??\")\n",
    "\n",
    "print(\"Pregunta 2:  ¿cuanto es 915-458?\")\n",
    "chat_with_agent_summary(\"¿cuanto es 915-458?\")\n",
    "\n",
    "print(\"Pregunta 3: ¿Sobre qué estábamos hablando?\")\n",
    "response3_summary = chat_with_agent_summary(\"¿Sobre qué estábamos hablando?\")\n",
    "print(f\"Respuesta 3: {response3_summary}\")"
   ]
  },
  {
   "cell_type": "code",
   "execution_count": null,
   "id": "66bf4ee3",
   "metadata": {},
   "outputs": [
    {
     "name": "stdout",
     "output_type": "stream",
     "text": [
      "\n",
      "🤖 Chatbot iniciado (escribe 'salir' para terminar)\n",
      "\n",
      "Bot: 2 + 7 es igual a 9.\n",
      "\n",
      "Bot: 9 * 7 es igual a 63.\n",
      "\n",
      "Bot: Estamos hablando de matemáticas, específicamente de operaciones básicas como la suma y la multiplicación. ¿Hay algo más en lo que pueda ayudarte? 😊\n",
      "\n",
      "Bot: ¿En qué puedo ayudarte hoy?\n",
      "\n",
      "👋 ¡Hasta luego!\n"
     ]
    }
   ],
   "source": [
    "@tool\n",
    "def saludar(nombre: str) -> str:\n",
    "    \"\"\"Devuelve un saludo personalizado.\"\"\"\n",
    "    return f\"¡Hola {nombre}! Encantado de conversar contigo.\"\n",
    "\n",
    "tools = [saludar]\n",
    "\n",
    "\n",
    "prompt = hub.pull(\"hwchase17/openai-tools-agent\")\n",
    "agent = create_openai_tools_agent(llm, tools, prompt)\n",
    "agent_executor = AgentExecutor(agent=agent, tools=tools, verbose=False)\n",
    "\n",
    "\n",
    "memory = ConversationSummaryMemory(llm=llm, memory_key=\"chat_history\", return_messages=True)\n",
    "\n",
    "def chat_with_agent(query: str):\n",
    "    history = memory.load_memory_variables({})[\"chat_history\"]\n",
    "    response = agent_executor.invoke({\n",
    "        \"input\": query,\n",
    "        \"chat_history\": history\n",
    "    })\n",
    "    memory.save_context({\"input\": query}, {\"output\": response[\"output\"]})\n",
    "    return response[\"output\"]\n",
    "\n",
    "\n",
    "print(\"\\n Chatbot iniciado (escribe 'salir' para terminar)\\n\")\n",
    "while True:\n",
    "    user_input = input(\"Tú: \")\n",
    "    if user_input.lower() in [\"salir\", \"exit\", \"quit\"]:\n",
    "        print(\"¡Hasta luego!\")\n",
    "        break\n",
    "    respuesta = chat_with_agent(user_input)\n",
    "    print(f\"Bot: {respuesta}\\n\")"
   ]
  }
 ],
 "metadata": {
  "kernelspec": {
   "display_name": ".venv",
   "language": "python",
   "name": "python3"
  },
  "language_info": {
   "name": "python",
   "version": "3.13.3"
  }
 },
 "nbformat": 4,
 "nbformat_minor": 5
}
