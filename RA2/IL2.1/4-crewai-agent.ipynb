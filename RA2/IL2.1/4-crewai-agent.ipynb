{
 "cells": [
  {
   "cell_type": "markdown",
   "metadata": {},
   "source": [
    "# 4. Orquestación de Agentes con CrewAI\n",
    "\n",
    "## Objetivos de Aprendizaje\n",
    "- Entender el concepto de agentes colaborativos y los roles en un \"equipo\" (Crew).\n",
    "- Aprender los componentes clave de CrewAI: `Agent`, `Task`, `Tool` y `Crew`.\n",
    "- Definir un equipo de agentes (un investigador y un escritor) para realizar una tarea compleja.\n",
    "- Ejecutar el `Crew` y observar cómo los agentes colaboran y se pasan el trabajo entre ellos.\n",
    "- **Comprender las configuraciones específicas necesarias para usar CrewAI con GitHub Models API**.\n",
    "\n",
    "## ¿Qué es CrewAI y por qué usarlo?\n",
    "\n",
    "Mientras que LangChain proporciona los bloques de construcción fundamentales para crear un agente, **CrewAI** se especializa en la **orquestación de múltiples agentes autónomos**. La idea central es que, para resolver tareas complejas, es más eficiente tener un equipo de agentes especializados que colaboren, en lugar de un solo agente que intente hacerlo todo.\n",
    "\n",
    "**Analogía:** Piensa en una agencia de marketing. No tienes una sola persona que es experta en investigación, redacción, diseño y redes sociales. Tienes un equipo donde cada miembro tiene un rol claro. CrewAI aplica este concepto a los agentes de IA.\n",
    "\n",
    "**Ventajas de CrewAI:**\n",
    "- **Roles Especializados**: Permite definir agentes con roles, objetivos (`goal`) e historias de fondo (`backstory`) específicas, lo que los hace más efectivos en su nicho.\n",
    "- **Colaboración Autónoma**: Los agentes pueden delegar tareas entre ellos de forma autónoma.\n",
    "- **Procesos Secuenciales y Jerárquicos**: Soporta flujos de trabajo donde las tareas se completan en un orden específico.\n",
    "- **Claridad y Estructura**: El código es muy declarativo y fácil de leer, ya que se centra en definir el equipo y sus responsabilidades.\n",
    "\n",
    "## Relación entre CrewAI y LangChain\n",
    "\n",
    "CrewAI **utiliza LangChain internamente** para manejar los LLMs y las herramientas. Esto significa que:\n",
    "\n",
    "1. **CrewAI** se encarga de la orquestación de agentes (el \"director de orquesta\")\n",
    "2. **LangChain** proporciona la interfaz con los modelos y herramientas (los \"instrumentos\")\n",
    "\n",
    "Esta relación requiere configuraciones específicas que veremos en este notebook."
   ]
  },
  {
   "cell_type": "markdown",
   "metadata": {},
   "source": [
    "### 1. Instalación y Configuración"
   ]
  },
  {
   "cell_type": "code",
   "execution_count": 1,
   "metadata": {},
   "outputs": [],
   "source": [
    "!pip install crewai crewai-tools langchain-openai openai wikipedia -q"
   ]
  },
  {
   "cell_type": "markdown",
   "metadata": {},
   "source": [
    "### 2. Configuración Especial para GitHub Models API\n",
    "\n",
    "**⚠️ IMPORTANTE:** Esta es la parte crítica que causa problemas si no se configura correctamente.\n",
    "\n",
    "**El Problema:**\n",
    "- CrewAI utiliza LangChain internamente\n",
    "- LangChain busca las variables de entorno `OPENAI_API_KEY` y `OPENAI_API_BASE`\n",
    "- Nosotros tenemos `GITHUB_TOKEN` y `OPENAI_BASE_URL`\n",
    "- Necesitamos \"mapear\" nuestras variables a las que LangChain espera\n",
    "\n",
    "**La Solución:**\n",
    "Configuramos las variables de entorno que LangChain espera, usando nuestros valores de GitHub Models API."
   ]
  },
  {
   "cell_type": "code",
   "execution_count": 3,
   "metadata": {},
   "outputs": [
    {
     "name": "stdout",
     "output_type": "stream",
     "text": [
      "🔍 Verificando configuración:\n",
      "OPENAI_BASE_URL: https://models.github.ai/inference\n",
      "GITHUB_TOKEN: ✅ Configurado\n",
      "OPENAI_API_BASE: https://models.github.ai/inference\n",
      "OPENAI_API_KEY: ✅ Configurado\n",
      "\n",
      "✅ Variables de entorno mapeadas correctamente para LangChain.\n"
     ]
    }
   ],
   "source": [
    "import os\n",
    "\n",
    "# 🔧 CONFIGURACIÓN CRÍTICA: Mapear variables de entorno para LangChain\n",
    "# CrewAI → LangChain → GitHub Models API\n",
    "\n",
    "# LangChain espera estas variables específicas:\n",
    "os.environ[\"OPENAI_API_BASE\"] = os.environ.get(\"OPENAI_BASE_URL\", \"\")\n",
    "os.environ[\"OPENAI_API_KEY\"] = os.environ.get(\"GITHUB_TOKEN\", \"\")\n",
    "\n",
    "# Verificar que las variables estén configuradas\n",
    "print(\"🔍 Verificando configuración:\")\n",
    "print(f\"OPENAI_BASE_URL: {os.environ.get('OPENAI_BASE_URL', 'No configurado')}\")\n",
    "print(f\"GITHUB_TOKEN: {'✅ Configurado' if os.environ.get('GITHUB_TOKEN') else '❌ No configurado'}\")\n",
    "print(f\"OPENAI_API_BASE: {os.environ.get('OPENAI_API_BASE', 'No configurado')}\")\n",
    "print(f\"OPENAI_API_KEY: {'✅ Configurado' if os.environ.get('OPENAI_API_KEY') else '❌ No configurado'}\")\n",
    "\n",
    "print(\"\\n✅ Variables de entorno mapeadas correctamente para LangChain.\")"
   ]
  },
  {
   "cell_type": "markdown",
   "metadata": {},
   "source": [
    "### 3. Configuración del LLM\n",
    "\n",
    "Ahora configuramos el LLM usando LangChain. Gracias a la configuración anterior, LangChain automáticamente usará nuestras variables de entorno mapeadas."
   ]
  },
  {
   "cell_type": "code",
   "execution_count": 4,
   "metadata": {},
   "outputs": [
    {
     "name": "stdout",
     "output_type": "stream",
     "text": [
      "✅ LLM configurado y probado exitosamente.\n",
      "📝 Respuesta de prueba: ¡Hola! Sí, funciono correctamente. 😊 ¿En qué puedo...\n"
     ]
    }
   ],
   "source": [
    "import wikipedia\n",
    "from langchain_openai import ChatOpenAI\n",
    "\n",
    "# Configurar el idioma de Wikipedia\n",
    "wikipedia.set_lang('es')\n",
    "\n",
    "# 🧠 Configurar el LLM con LangChain\n",
    "# Nota: No necesitamos pasar explícitamente las API keys aquí\n",
    "# porque LangChain las lee automáticamente de las variables de entorno\n",
    "try:\n",
    "    llm = ChatOpenAI(\n",
    "        model=\"gpt-4o\",\n",
    "        temperature=0\n",
    "    )\n",
    "    \n",
    "    # Probar que el LLM funciona\n",
    "    test_response = llm.invoke(\"Hola, ¿funcionas correctamente?\")\n",
    "    print(f\"✅ LLM configurado y probado exitosamente.\")\n",
    "    print(f\"📝 Respuesta de prueba: {test_response.content[:50]}...\")\n",
    "    \n",
    "except Exception as e:\n",
    "    print(f\"❌ Error configurando el LLM: {e}\")\n",
    "    print(\"💡 Verifica que OPENAI_BASE_URL y GITHUB_TOKEN estén configurados correctamente.\")\n",
    "    llm = None"
   ]
  },
  {
   "cell_type": "markdown",
   "metadata": {},
   "source": [
    "### 4. Definición de Herramientas con CrewAI\n",
    "\n",
    "**⚠️ IMPORTANTE:** CrewAI requiere un enfoque específico para las herramientas.\n",
    "\n",
    "**El Problema:**\n",
    "- LangChain usa el decorador `@tool` para definir herramientas\n",
    "- CrewAI requiere que las herramientas hereden de `BaseTool`\n",
    "- Mezclar ambos enfoques causa errores\n",
    "\n",
    "**La Solución:**\n",
    "Usar `BaseTool` de `crewai_tools` para crear herramientas compatibles con CrewAI."
   ]
  },
  {
   "cell_type": "code",
   "execution_count": null,
   "metadata": {},
   "outputs": [
    {
     "ename": "ImportError",
     "evalue": "cannot import name 'BaseTool' from 'crewai_tools' (c:\\Users\\Alejandro\\Documents\\GitHub\\productos_app\\Ingenier-a-de-Soluciones-con-Inteligencia-Artificial\\.venv\\Lib\\site-packages\\crewai_tools\\__init__.py)",
     "output_type": "error",
     "traceback": [
      "\u001b[31m---------------------------------------------------------------------------\u001b[39m",
      "\u001b[31mImportError\u001b[39m                               Traceback (most recent call last)",
      "\u001b[36mCell\u001b[39m\u001b[36m \u001b[39m\u001b[32mIn[6]\u001b[39m\u001b[32m, line 1\u001b[39m\n\u001b[32m----> \u001b[39m\u001b[32m1\u001b[39m \u001b[38;5;28;01mfrom\u001b[39;00m\u001b[38;5;250m \u001b[39m\u001b[34;01mcrewai_tools\u001b[39;00m\u001b[38;5;250m \u001b[39m\u001b[38;5;28;01mimport\u001b[39;00m BaseTool\n\u001b[32m      3\u001b[39m \u001b[38;5;66;03m# 🔧 HERRAMIENTA CORREGIDA: Usar BaseTool en lugar de @tool\u001b[39;00m\n\u001b[32m      4\u001b[39m \u001b[38;5;28;01mclass\u001b[39;00m\u001b[38;5;250m \u001b[39m\u001b[34;01mWikipediaSearchTool\u001b[39;00m(BaseTool):\n",
      "\u001b[31mImportError\u001b[39m: cannot import name 'BaseTool' from 'crewai_tools' (c:\\Users\\Alejandro\\Documents\\GitHub\\productos_app\\Ingenier-a-de-Soluciones-con-Inteligencia-Artificial\\.venv\\Lib\\site-packages\\crewai_tools\\__init__.py)"
     ]
    }
   ],
   "source": [
    "#from crewai_tools import BaseTool\n",
    "from crewai.tools import BaseTool\n",
    "\n",
    "# 🔧 HERRAMIENTA CORREGIDA: Usar BaseTool en lugar de @tool\n",
    "class WikipediaSearchTool(BaseTool):\n",
    "    name: str = \"Wikipedia Search Tool\"\n",
    "    description: str = \"Busca en Wikipedia un tema y devuelve un resumen detallado. Es ideal para obtener información sobre personas, lugares, conceptos históricos y científicos.\"\n",
    "    \n",
    "    def _run(self, query: str) -> str:\n",
    "        \"\"\"Ejecuta la búsqueda en Wikipedia\"\"\"\n",
    "        try:\n",
    "            # Configurar el idioma de Wikipedia\n",
    "            wikipedia.set_lang(\"es\")\n",
    "            # Devolver un resumen detallado para que el escritor tenga más material\n",
    "            return wikipedia.summary(query, sentences=5)\n",
    "        except wikipedia.exceptions.PageError:\n",
    "            return f\"No se encontró ninguna página para '{query}'. Intenta con un término más específico.\"\n",
    "        except wikipedia.exceptions.DisambiguationError as e:\n",
    "            return f\"La búsqueda para '{query}' es ambigua. Opciones disponibles: {e.options[:3]}. Especifica cuál te interesa.\"\n",
    "        except Exception as e:\n",
    "            return f\"Error al buscar en Wikipedia: {str(e)}\"\n",
    "\n",
    "# Crear la instancia de la herramienta\n",
    "wikipedia_tool = WikipediaSearchTool()\n",
    "tools = [wikipedia_tool]\n",
    "\n",
    "# Probar la herramienta\n",
    "try:\n",
    "    test_result = wikipedia_tool._run(\"Albert Einstein\")\n",
    "    print(\"✅ Herramienta de Wikipedia configurada y probada exitosamente.\")\n",
    "    print(f\"📝 Resultado de prueba: {test_result[:100]}...\")\n",
    "except Exception as e:\n",
    "    print(f\"❌ Error probando la herramienta: {e}\")\n",
    "\n",
    "print(f\"\\n🔧 {len(tools)} herramienta(s) disponible(s) para los agentes.\")"
   ]
  },
  {
   "cell_type": "markdown",
   "metadata": {},
   "source": [
    "### 5. Creación del Equipo de Agentes (Crew)\n",
    "\n",
    "Ahora definimos nuestro equipo de agentes especializados:\n",
    "\n",
    "1. **Investigador (Researcher)**: Busca información detallada usando Wikipedia\n",
    "2. **Escritor (Writer)**: Transforma la información en una biografía bien redactada\n",
    "\n",
    "**⚠️ IMPORTANTE:** Otro error común es el parámetro `verbose` en `Crew`."
   ]
  },
  {
   "cell_type": "code",
   "execution_count": null,
   "metadata": {},
   "outputs": [],
   "source": [
    "from crewai import Agent, Task, Crew, Process\n",
    "\n",
    "# 🕵️ Agente 1: El Investigador\n",
    "researcher = Agent(\n",
    "    role=\"Investigador Senior\",\n",
    "    goal=\"Encontrar información completa y precisa sobre personas históricas, científicos y figuras importantes utilizando fuentes confiables.\",\n",
    "    backstory=\"\"\"Eres un investigador académico con años de experiencia en la búsqueda de información histórica y científica. \n",
    "    Tu especialidad es encontrar datos precisos y relevantes en Wikipedia y otras fuentes confiables. \n",
    "    Te enorgulleces de la exactitud de tu trabajo y siempre proporcionas contexto histórico relevante. \n",
    "    No escribes biografías completas, tu trabajo es recopilar los datos más importantes y precisos.\"\"\",\n",
    "    tools=tools,\n",
    "    llm=llm,\n",
    "    verbose=True,\n",
    "    allow_delegation=False  # Este agente no delega trabajo\n",
    ")\n",
    "\n",
    "# ✍️ Agente 2: El Escritor\n",
    "writer = Agent(\n",
    "    role=\"Escritor de Biografías\",\n",
    "    goal=\"Crear biografías atractivas, bien estructuradas y fáciles de leer basadas en la información proporcionada por el investigador.\",\n",
    "    backstory=\"\"\"Eres un escritor profesional especializado en biografías y divulgación científica. \n",
    "    Tu habilidad única es transformar datos técnicos y históricos en narrativas cautivadoras que son \n",
    "    tanto informativas como accesibles para el público general. \n",
    "    Tienes un don especial para destacar los aspectos más interesantes de la vida de las personas \n",
    "    y presentar sus logros de manera inspiradora.\"\"\",\n",
    "    llm=llm,\n",
    "    verbose=True,\n",
    "    allow_delegation=False\n",
    ")\n",
    "\n",
    "print(\"✅ Agentes creados exitosamente:\")\n",
    "print(f\"🕵️ {researcher.role}\")\n",
    "print(f\"✍️ {writer.role}\")"
   ]
  },
  {
   "cell_type": "markdown",
   "metadata": {},
   "source": [
    "### 6. Definición de Tareas\n",
    "\n",
    "Las tareas definen exactamente qué debe hacer cada agente y cómo se relacionan entre ellas."
   ]
  },
  {
   "cell_type": "code",
   "execution_count": null,
   "metadata": {},
   "outputs": [],
   "source": [
    "# 🔍 Tarea 1: Investigación\n",
    "research_task = Task(\n",
    "    description=\"\"\"Busca información detallada sobre Marie Curie en Wikipedia. \n",
    "    Enfócate en:\n",
    "    - Sus descubrimientos científicos más importantes\n",
    "    - Su impacto en la ciencia y la sociedad\n",
    "    - Datos biográficos clave (fechas, lugares, educación)\n",
    "    - Sus premios y reconocimientos\n",
    "    - Su legado científico\n",
    "    \n",
    "    Proporciona información precisa y bien organizada que el escritor pueda usar.\"\"\",\n",
    "    expected_output=\"Un resumen detallado de 4-6 párrafos con los datos más importantes sobre la vida, descubrimientos y legado de Marie Curie.\",\n",
    "    agent=researcher\n",
    ")\n",
    "\n",
    "# ✍️ Tarea 2: Escritura\n",
    "write_task = Task(\n",
    "    description=\"\"\"Usando la información recopilada por el investigador, escribe una biografía cautivadora de Marie Curie.\n",
    "    \n",
    "    Requisitos:\n",
    "    - Mínimo 5 párrafos bien estructurados\n",
    "    - Estilo atractivo y accesible\n",
    "    - Incluir sus logros más importantes\n",
    "    - Destacar su impacto en la ciencia\n",
    "    - Formato Markdown con encabezados apropiados\n",
    "    - Tono inspirador pero preciso\n",
    "    \n",
    "    La biografía debe ser educativa e inspiradora para lectores de todas las edades.\"\"\",\n",
    "    expected_output=\"Una biografía completa en formato Markdown, bien estructurada y atractiva, de al menos 5 párrafos.\",\n",
    "    agent=writer,\n",
    "    context=[research_task]  # Esta tarea depende del resultado de la investigación\n",
    ")\n",
    "\n",
    "print(\"✅ Tareas definidas exitosamente:\")\n",
    "print(f\"🔍 Tarea de investigación: {research_task.description[:50]}...\")\n",
    "print(f\"✍️ Tarea de escritura: {write_task.description[:50]}...\")"
   ]
  },
  {
   "cell_type": "markdown",
   "metadata": {},
   "source": [
    "### 7. Ensamblaje del Equipo (Crew)\n",
    "\n",
    "**⚠️ CONFIGURACIÓN CORREGIDA:** El parámetro `verbose` debe ser boolean, no entero."
   ]
  },
  {
   "cell_type": "code",
   "execution_count": null,
   "metadata": {},
   "outputs": [],
   "source": [
    "# 🎯 CONFIGURACIÓN CORREGIDA: verbose debe ser boolean\n",
    "crew = Crew(\n",
    "    agents=[researcher, writer],\n",
    "    tasks=[research_task, write_task],\n",
    "    process=Process.sequential,  # Las tareas se ejecutan en orden\n",
    "    verbose=True  # ✅ CORRECTO: boolean, no entero (verbose=2 causaría error)\n",
    ")\n",
    "\n",
    "print(\"✅ Equipo (Crew) ensamblado exitosamente:\")\n",
    "print(f\"👥 {len(crew.agents)} agentes en el equipo\")\n",
    "print(f\"📋 {len(crew.tasks)} tareas definidas\")\n",
    "print(f\"🔄 Proceso: {crew.process}\")\n",
    "print(f\"🔊 Verbose: {crew.verbose}\")"
   ]
  },
  {
   "cell_type": "markdown",
   "metadata": {},
   "source": [
    "### 8. Ejecución del Crew\n",
    "\n",
    "¡Ahora viene la magia! Ejecutamos el crew y observamos cómo los agentes colaboran."
   ]
  },
  {
   "cell_type": "code",
   "execution_count": null,
   "metadata": {},
   "outputs": [],
   "source": [
    "# 🚀 Ejecutar el crew\n",
    "if llm is None:\n",
    "    print(\"❌ No se puede ejecutar el crew sin un LLM configurado.\")\n",
    "    print(\"💡 Verifica la configuración de las variables de entorno en las celdas anteriores.\")\n",
    "else:\n",
    "    try:\n",
    "        print(\"🚀 Iniciando ejecución del crew...\")\n",
    "        print(\"📝 Observa cómo los agentes colaboran paso a paso:\\n\")\n",
    "        \n",
    "        # Ejecutar el crew\n",
    "        result = crew.kickoff()\n",
    "        \n",
    "        print(\"\\n\" + \"=\"*80)\n",
    "        print(\"🏁 RESULTADO FINAL DEL CREW\")\n",
    "        print(\"=\"*80)\n",
    "        print(result)\n",
    "        \n",
    "    except Exception as e:\n",
    "        print(f\"❌ Error durante la ejecución del crew: {e}\")\n",
    "        print(\"\\n🔧 Posibles soluciones:\")\n",
    "        print(\"1. Verifica que GITHUB_TOKEN esté configurado correctamente\")\n",
    "        print(\"2. Asegúrate de que OPENAI_BASE_URL esté configurado\")\n",
    "        print(\"3. Confirma que tu token tenga permisos para usar GitHub Models\")\n",
    "        print(\"4. Verifica que no hayas mezclado @tool con BaseTool\")\n",
    "        print(\"5. Asegúrate de que verbose=True (no verbose=2)\")\n",
    "        \n",
    "        # Mostrar información de debugging\n",
    "        print(\"\\n🐛 Información de debugging:\")\n",
    "        import traceback\n",
    "        traceback.print_exc()"
   ]
  },
  {
   "cell_type": "markdown",
   "metadata": {},
   "source": [
    "## 🎓 Resumen de Configuraciones Críticas\n",
    "\n",
    "### Problemas Comunes y Sus Soluciones\n",
    "\n",
    "| **Problema** | **Síntoma** | **Solución** |\n",
    "|-------------|-------------|-------------|\n",
    "| **Variables de entorno** | `AuthenticationError: Incorrect API key` | Mapear `GITHUB_TOKEN` → `OPENAI_API_KEY` y `OPENAI_BASE_URL` → `OPENAI_API_BASE` |\n",
    "| **Herramientas incompatibles** | `'Tool' object is not callable` | Usar `BaseTool` en lugar de `@tool` |\n",
    "| **Parámetro verbose** | `ValidationError: Input should be a valid boolean` | Usar `verbose=True` en lugar de `verbose=2` |\n",
    "| **LLM no configurado** | `llm is None` | Verificar que las variables de entorno estén configuradas |\n",
    "\n",
    "### Configuración Correcta para GitHub Models API\n",
    "\n",
    "```python\n",
    "# 1. Mapear variables de entorno\n",
    "os.environ[\"OPENAI_API_BASE\"] = os.environ.get(\"OPENAI_BASE_URL\", \"\")\n",
    "os.environ[\"OPENAI_API_KEY\"] = os.environ.get(\"GITHUB_TOKEN\", \"\")\n",
    "\n",
    "# 2. Configurar LLM sin parámetros explícitos\n",
    "llm = ChatOpenAI(model=\"gpt-4o\", temperature=0)\n",
    "\n",
    "# 3. Usar BaseTool para herramientas\n",
    "class MiTool(BaseTool):\n",
    "    name: str = \"Mi Herramienta\"\n",
    "    description: str = \"Descripción de la herramienta\"\n",
    "    def _run(self, query: str) -> str:\n",
    "        return \"resultado\"\n",
    "\n",
    "# 4. Configurar Crew con verbose boolean\n",
    "crew = Crew(\n",
    "    agents=[agent1, agent2],\n",
    "    tasks=[task1, task2],\n",
    "    process=Process.sequential,\n",
    "    verbose=True  # ✅ boolean, no entero\n",
    ")\n",
    "```\n",
    "\n",
    "### Variables de Entorno Requeridas\n",
    "\n",
    "```bash\n",
    "export OPENAI_BASE_URL=\"https://models.inference.ai.azure.com\"\n",
    "export GITHUB_TOKEN=\"tu_token_de_github_aquí\"\n",
    "```"
   ]
  },
  {
   "cell_type": "markdown",
   "metadata": {},
   "source": [
    "## 🚀 Conclusiones\n",
    "\n",
    "### Lo que hemos aprendido:\n",
    "\n",
    "1. **CrewAI vs LangChain**: CrewAI orquesta equipos de agentes, LangChain proporciona los componentes individuales.\n",
    "\n",
    "2. **Configuración crítica**: Cuando usas CrewAI con GitHub Models API, necesitas mapear las variables de entorno correctamente.\n",
    "\n",
    "3. **Herramientas compatibles**: CrewAI requiere `BaseTool`, no el decorador `@tool` de LangChain.\n",
    "\n",
    "4. **Parámetros correctos**: `verbose` debe ser boolean, no entero.\n",
    "\n",
    "5. **Colaboración de agentes**: Los agentes pueden trabajar en secuencia, pasándose información entre ellos.\n",
    "\n",
    "### Próximos pasos:\n",
    "\n",
    "En los siguientes módulos exploraremos:\n",
    "- Sistemas de memoria para agentes\n",
    "- Integración con herramientas externas\n",
    "- Estrategias de planificación más avanzadas\n",
    "- Observabilidad y monitoreo de agentes\n",
    "\n",
    "### 💡 Tip para estudiantes:\n",
    "\n",
    "**Siempre revisa las configuraciones de entorno cuando cambies entre frameworks.** Cada framework tiene sus propias convenciones y expectativas sobre cómo acceder a los servicios externos. La clave está en entender estas diferencias y configurar correctamente las interfaces entre ellos."
   ]
  }
 ],
 "metadata": {
  "kernelspec": {
   "display_name": ".venv",
   "language": "python",
   "name": "python3"
  },
  "language_info": {
   "codemirror_mode": {
    "name": "ipython",
    "version": 3
   },
   "file_extension": ".py",
   "mimetype": "text/x-python",
   "name": "python",
   "nbconvert_exporter": "python",
   "pygments_lexer": "ipython3",
   "version": "3.13.3"
  }
 },
 "nbformat": 4,
 "nbformat_minor": 4
}
