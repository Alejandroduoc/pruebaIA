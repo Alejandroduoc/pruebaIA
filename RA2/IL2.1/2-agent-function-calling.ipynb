{
 "cells": [
  {
   "cell_type": "markdown",
   "metadata": {},
   "source": [
    "# 2. Agentes con Function Calling Nativo de OpenAI\n",
    "\n",
    "## Objetivos de Aprendizaje\n",
    "- Comprender el mecanismo de \"Function Calling\" de OpenAI y sus ventajas.\n",
    "- Definir herramientas en el formato JSON Schema que requiere la API.\n",
    "- Implementar un agente que utiliza function calling para interactuar con una API externa (Wikipedia).\n",
    "- Manejar el flujo de una conversación donde el modelo solicita la ejecución de una función.\n",
    "\n",
    "## ¿Qué es Function Calling y por qué es mejor?\n",
    "\n",
    "En el notebook anterior, construimos un agente que funcionaba parseando texto. El LLM escribía su intención de usar una herramienta en un formato específico (\"Action: {...}\"), y nosotros usábamos expresiones regulares para extraer esa intención. Este método funciona, pero es frágil:\n",
    "\n",
    "- El LLM puede cometer errores y no generar el texto en el formato exacto.\n",
    "- El parsing puede fallar si la estructura del texto cambia ligeramente.\n",
    "- Los argumentos de la función se pasan como un string que debemos convertir a JSON, lo cual puede dar errores.\n",
    "\n",
    "**Function Calling** es la solución nativa de OpenAI a este problema. En lugar de pedirle al modelo que *escriba* qué herramienta quiere usar, le permitimos que nos devuelva una estructura de datos **JSON bien formada** que especifica el nombre de la función y los argumentos que quiere usar. \n",
    "\n",
    "**Ventajas:**\n",
    "1.  **Fiabilidad**: El modelo está entrenado para generar un JSON válido, eliminando casi por completo los errores de formato.\n",
    "2.  **Seguridad**: Evita la necesidad de ejecutar código que el LLM genera directamente.\n",
    "3.  **Simplicidad**: No más parsing con expresiones regulares. La intención del modelo es clara y estructurada."
   ]
  },
  {
   "cell_type": "markdown",
   "metadata": {},
   "source": [
    "### 1. Instalación y Configuración"
   ]
  },
  {
   "cell_type": "code",
   "execution_count": null,
   "metadata": {},
   "outputs": [],
   "source": [
    "!pip install openai wikipedia -q"
   ]
  },
  {
   "cell_type": "code",
   "execution_count": 5,
   "metadata": {},
   "outputs": [
    {
     "name": "stdout",
     "output_type": "stream",
     "text": [
      "✅ Cliente OpenAI configurado correctamente.\n"
     ]
    }
   ],
   "source": [
    "import os\n",
    "import json\n",
    "import wikipedia\n",
    "from openai import OpenAI\n",
    "\n",
    "# Configurar el idioma de Wikipedia\n",
    "wikipedia.set_lang(\"es\")\n",
    "\n",
    "# --- Configuración del Cliente OpenAI ---\n",
    "try:\n",
    "    client = OpenAI(\n",
    "        base_url=os.environ.get(\"GITHUB_BASE_URL\"),\n",
    "        api_key=os.environ.get(\"GITHUB_TOKEN\")\n",
    "    )\n",
    "    print(\"✅ Cliente OpenAI configurado correctamente.\")\n",
    "except Exception as e:\n",
    "    print(f\"❌ Error configurando el cliente: {e}\")\n",
    "    client = None"
   ]
  },
  {
   "cell_type": "markdown",
   "metadata": {},
   "source": [
    "### 2. Definición de Herramientas en formato OpenAI\n",
    "\n",
    "Primero, definimos la función de Python que queremos que nuestro agente pueda usar. En este caso, una función que busca un resumen en Wikipedia.\n",
    "\n",
    "Luego, y esto es lo más importante, describimos esa función en un formato de **JSON Schema**. Esta descripción le dice al LLM qué es la herramienta, para qué sirve y qué argumentos necesita."
   ]
  },
  {
   "cell_type": "code",
   "execution_count": 6,
   "metadata": {},
   "outputs": [
    {
     "name": "stdout",
     "output_type": "stream",
     "text": [
      "✅ Herramienta y su definición para OpenAI listas.\n"
     ]
    }
   ],
   "source": [
    "# La función de Python que realiza la acción\n",
    "def get_wikipedia_summary(query):\n",
    "    \"\"\"Busca en Wikipedia un tema y devuelve un resumen de 2 frases.\"\"\"\n",
    "    try:\n",
    "        # sentences=2 pide a la librería que devuelva un resumen de 2 frases\n",
    "        summary = wikipedia.summary(query, sentences=2)\n",
    "        return summary\n",
    "    except wikipedia.exceptions.PageError:\n",
    "        return f\"No se encontró ninguna página para '{query}'.\"\n",
    "    except wikipedia.exceptions.DisambiguationError as e:\n",
    "        return f\"La búsqueda para '{query}' es ambigua. Opciones: {e.options[:3]}\"\n",
    "\n",
    "# Lista de herramientas en formato JSON Schema para la API de OpenAI\n",
    "tools_definition = [\n",
    "    {\n",
    "        \"type\": \"function\",\n",
    "        \"function\": {\n",
    "            \"name\": \"get_wikipedia_summary\",\n",
    "            \"description\": \"Obtiene un resumen conciso de un artículo de Wikipedia para un tema o persona específica.\",\n",
    "            \"parameters\": {\n",
    "                \"type\": \"object\",\n",
    "                \"properties\": {\n",
    "                    \"query\": {\n",
    "                        \"type\": \"string\",\n",
    "                        \"description\": \"El tema o nombre a buscar en Wikipedia. Por ejemplo, 'Albert Einstein'.\"\n",
    "                    }\n",
    "                },\n",
    "                \"required\": [\"query\"]\n",
    "            }\n",
    "        }\n",
    "    }\n",
    "]\n",
    "\n",
    "print(\"✅ Herramienta y su definición para OpenAI listas.\")"
   ]
  },
  {
   "cell_type": "markdown",
   "metadata": {},
   "source": [
    "### 3. El Flujo del Agente con Function Calling\n",
    "\n",
    "El proceso ahora es más estructurado:\n",
    "\n",
    "1.  **Usuario -> Agente**: Enviamos la pregunta del usuario y la lista de herramientas (`tools_definition`) al LLM.\n",
    "2.  **LLM -> Agente**: El LLM analiza la pregunta. Si decide que necesita una herramienta, en lugar de devolver un mensaje de texto, devuelve un objeto `tool_calls`.\n",
    "3.  **Agente**: Verificamos si la respuesta contiene `tool_calls`. Si es así, ejecutamos la función correspondiente en nuestro código Python.\n",
    "4.  **Agente -> LLM**: Enviamos el resultado de la función de vuelta al LLM en un nuevo mensaje con `role=\"tool\"`.\n",
    "5.  **LLM -> Usuario**: El LLM, ahora con la información de la herramienta, genera la respuesta final en lenguaje natural."
   ]
  },
  {
   "cell_type": "code",
   "execution_count": 7,
   "metadata": {},
   "outputs": [
    {
     "name": "stdout",
     "output_type": "stream",
     "text": [
      "✅ Lógica del agente con Function Calling definida.\n"
     ]
    }
   ],
   "source": [
    "def run_agent_with_function_calling(user_query, client, tools_definition):\n",
    "    if not client:\n",
    "        return \"Cliente no inicializado.\"\n",
    "\n",
    "    # Mapeo de nombres de función a las funciones de Python reales\n",
    "    available_tools = {\n",
    "        \"get_wikipedia_summary\": get_wikipedia_summary,\n",
    "    }\n",
    "\n",
    "    messages = [{\"role\": \"user\", \"content\": user_query}]\n",
    "    \n",
    "    print(f\"--- 🚀 Iniciando agente para la consulta: '{user_query}' ---\")\n",
    "\n",
    "    # Primera llamada al modelo\n",
    "    response = client.chat.completions.create(\n",
    "        model=\"gpt-4o\",\n",
    "        messages=messages,\n",
    "        tools=tools_definition, # Aquí pasamos la definición de las herramientas\n",
    "        tool_choice=\"auto\",  # El modelo decide si usar una herramienta o no\n",
    "    )\n",
    "\n",
    "    response_message = response.choices[0].message\n",
    "    messages.append(response_message) # Añadir la respuesta del LLM al historial\n",
    "\n",
    "    # Comprobar si el modelo quiere llamar a una función\n",
    "    if response_message.tool_calls:\n",
    "        print(\"🤖 El modelo ha decidido usar una herramienta...\")\n",
    "        for tool_call in response_message.tool_calls:\n",
    "            function_name = tool_call.function.name\n",
    "            function_args = json.loads(tool_call.function.arguments)\n",
    "            \n",
    "            print(f\"   - Herramienta: {function_name}\")\n",
    "            print(f\"   - Argumentos: {function_args}\")\n",
    "            \n",
    "            # Ejecutar la función\n",
    "            function_to_call = available_tools[function_name]\n",
    "            function_response = function_to_call(**function_args)\n",
    "            \n",
    "            print(f\"   - Resultado: {function_response}\")\n",
    "            \n",
    "            # Enviar el resultado de vuelta al modelo\n",
    "            messages.append(\n",
    "                {\n",
    "                    \"tool_call_id\": tool_call.id,\n",
    "                    \"role\": \"tool\",\n",
    "                    \"name\": function_name,\n",
    "                    \"content\": function_response,\n",
    "                }\n",
    "            )\n",
    "        \n",
    "        # Segunda llamada al modelo, ahora con el resultado de la herramienta\n",
    "        print(\"🧠 El modelo está procesando el resultado de la herramienta...\")\n",
    "        second_response = client.chat.completions.create(\n",
    "            model=\"gpt-4o\",\n",
    "            messages=messages\n",
    "        )\n",
    "        return second_response.choices[0].message.content\n",
    "    else:\n",
    "        # Si el modelo no usó una herramienta, devuelve su respuesta directamente\n",
    "        print(\"✅ El modelo ha respondido directamente.\")\n",
    "        return response_message.content\n",
    "\n",
    "print(\"✅ Lógica del agente con Function Calling definida.\")"
   ]
  },
  {
   "cell_type": "markdown",
   "metadata": {},
   "source": [
    "### 4. Ejecución del Agente\n",
    "\n",
    "Probemos con una pregunta que claramente necesita conocimiento externo."
   ]
  },
  {
   "cell_type": "code",
   "execution_count": 8,
   "metadata": {},
   "outputs": [
    {
     "name": "stdout",
     "output_type": "stream",
     "text": [
      "--- 🚀 Iniciando agente para la consulta: '¿Quién fue Marie Curie y cuáles fueron sus logros más importantes?' ---\n",
      "🤖 El modelo ha decidido usar una herramienta...\n",
      "   - Herramienta: get_wikipedia_summary\n",
      "   - Argumentos: {'query': 'Marie Curie'}\n",
      "   - Resultado: Maria Salomea Skłodowska-Curie,​​ más conocida como Marie Curie​​ o Madame Curie (Varsovia, 7 de noviembre de 1867-Passy, 4 de julio de 1934), fue una física y química de origen polaco. Pionera en el campo de la radiactividad, es la primera y única persona en recibir dos premios Nobel en distintas especialidades científicas: Física y Química.​ También fue la primera mujer en ocupar el puesto de profesora en la Universidad de París y la primera en recibir sepultura con honores en el Panteón de París por méritos propios en 1995.​\n",
      "Nació en Varsovia, en lo que entonces era el Zarato de Polonia (territorio administrado por el Imperio ruso).\n",
      "🧠 El modelo está procesando el resultado de la herramienta...\n",
      "🏁 Respuesta Final del Agente:Marie Curie (1867-1934) fue una destacada científica, pionera en el estudio de la radiactividad. Nacida en Varsovia, Polonia, y posteriormente nacionalizada francesa, realizó importantes contribuciones a la física y la química. Es reconocida como la primera persona en recibir dos premios Nobel en diferentes disciplinas científicas: Física (1903, junto con Pierre Curie y Henri Becquerel) y Química (1911).\n",
      "\n",
      "### Sus logros más importantes:\n",
      "1. **Descubrimiento del radio y el polonio (1898):** Junto con su esposo, Pierre Curie, descubrió estos dos elementos químicos, que revolucionaron el conocimiento sobre la radiactividad.\n",
      "   \n",
      "2. **Premio Nobel de Física (1903):** Fue galardonada por sus investigaciones sobre el fenómeno de la radiactividad, compartiendo el premio con Pierre Curie y Henri Becquerel.\n",
      "\n",
      "3. **Premio Nobel de Química (1911):** Obtuvo este segundo Nobel por sus descubrimientos relacionados con el radio y por sus investigaciones sobre las propiedades de los elementos radiactivos.\n",
      "\n",
      "4. **Primera mujer profesora en la Universidad de París (Sorbonne):** En 1906, tras la muerte de su esposo, asumió su cátedra, convirtiéndose en la primera mujer en ocupar este cargo.\n",
      "\n",
      "5. **Laboratorios y aplicaciones médicas:** Estableció laboratorios que impulsaron el uso de la radiactividad en medicina, como en el tratamiento del cáncer mediante radioterapia.\n",
      "\n",
      "6. **Legado científico:** Fue determinante en la creación del Instituto Curie, que sigue siendo un importante centro de investigación médica y científica.\n",
      "\n",
      "Marie Curie es recordada por su incansable labor científica, rompiendo numerosas barreras para las mujeres en la ciencia y dejando un impacto duradero tanto en la investigación científica como en la medicina. Su exposición prolongada a materiales radiactivos fue la causa de su muerte, pero su legado sigue vivo en la ciencia moderna.\n"
     ]
    }
   ],
   "source": [
    "query = \"¿Quién fue Marie Curie y cuáles fueron sus logros más importantes?\"\n",
    "final_answer = run_agent_with_function_calling(query, client, tools_definition)\n",
    "\n",
    "print(f\"🏁 Respuesta Final del Agente:{final_answer}\")"
   ]
  },
  {
   "cell_type": "markdown",
   "metadata": {},
   "source": [
    "## Conclusiones\n",
    "\n",
    "El uso de **Function Calling** nativo representa un salto cualitativo en la construcción de agentes. La comunicación entre el LLM y nuestro código es ahora mucho más **robusta, predecible y fácil de depurar**.\n",
    "\n",
    "Hemos eliminado la necesidad de crear prompts complejos para el formato ReAct y de parsear la salida del modelo. Sin embargo, todavía gestionamos manualmente el estado de la conversación (`messages`) y el flujo de llamadas.\n",
    "\n",
    "En el próximo notebook, introduciremos **LangChain**, un framework que abstrae esta lógica y nos permite construir agentes aún más potentes con mucho menos código."
   ]
  }
 ],
 "metadata": {
  "kernelspec": {
   "display_name": ".venv",
   "language": "python",
   "name": "python3"
  },
  "language_info": {
   "codemirror_mode": {
    "name": "ipython",
    "version": 3
   },
   "file_extension": ".py",
   "mimetype": "text/x-python",
   "name": "python",
   "nbconvert_exporter": "python",
   "pygments_lexer": "ipython3",
   "version": "3.13.3"
  }
 },
 "nbformat": 4,
 "nbformat_minor": 4
}
