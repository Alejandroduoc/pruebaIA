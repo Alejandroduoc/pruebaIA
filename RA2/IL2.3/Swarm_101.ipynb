{
  "cells": [
    {
      "cell_type": "markdown",
      "metadata": {
        "colab_type": "text",
        "id": "view-in-github"
      },
      "source": [
        "# Swarm 101 - Tutorial Adaptado\n",
        "## Configuración para Variables de Entorno Locales\n",
        "\n",
        "Este notebook ha sido adaptado para usar las variables de entorno específicas del proyecto."
      ]
    },
    {
      "cell_type": "markdown",
      "metadata": {
        "id": "xzUsjf07PUws"
      },
      "source": [
        "### Instalando la librería de Swarm y configurando variables de entorno"
      ]
    },
    {
      "cell_type": "code",
      "execution_count": 2,
      "metadata": {
        "id": "qwkICu8IO-xz"
      },
      "outputs": [
        {
          "name": "stdout",
          "output_type": "stream",
          "text": [
            "Collecting git+https://github.com/openai/swarm.git\n",
            "  Cloning https://github.com/openai/swarm.git to c:\\users\\alejandro\\appdata\\local\\temp\\pip-req-build-a2bww9m_\n",
            "  Resolved https://github.com/openai/swarm.git to commit 0c82d7d868bb8e2d380dfd2a319b5c3a1f4c0cb9\n",
            "  Installing build dependencies: started\n",
            "  Installing build dependencies: finished with status 'done'\n",
            "  Getting requirements to build wheel: started\n",
            "  Getting requirements to build wheel: finished with status 'done'\n",
            "  Preparing metadata (pyproject.toml): started\n",
            "  Preparing metadata (pyproject.toml): finished with status 'done'\n",
            "Requirement already satisfied: numpy in c:\\users\\alejandro\\documents\\github\\productos_app\\ingenier-a-de-soluciones-con-inteligencia-artificial\\.venv\\lib\\site-packages (from swarm==0.1.0) (2.3.3)\n",
            "Requirement already satisfied: openai>=1.33.0 in c:\\users\\alejandro\\documents\\github\\productos_app\\ingenier-a-de-soluciones-con-inteligencia-artificial\\.venv\\lib\\site-packages (from swarm==0.1.0) (1.108.1)\n",
            "Requirement already satisfied: pytest in c:\\users\\alejandro\\documents\\github\\productos_app\\ingenier-a-de-soluciones-con-inteligencia-artificial\\.venv\\lib\\site-packages (from swarm==0.1.0) (8.4.2)\n",
            "Requirement already satisfied: requests in c:\\users\\alejandro\\documents\\github\\productos_app\\ingenier-a-de-soluciones-con-inteligencia-artificial\\.venv\\lib\\site-packages (from swarm==0.1.0) (2.32.5)\n",
            "Requirement already satisfied: tqdm in c:\\users\\alejandro\\documents\\github\\productos_app\\ingenier-a-de-soluciones-con-inteligencia-artificial\\.venv\\lib\\site-packages (from swarm==0.1.0) (4.67.1)\n",
            "Requirement already satisfied: pre-commit in c:\\users\\alejandro\\documents\\github\\productos_app\\ingenier-a-de-soluciones-con-inteligencia-artificial\\.venv\\lib\\site-packages (from swarm==0.1.0) (4.3.0)\n",
            "Requirement already satisfied: instructor in c:\\users\\alejandro\\documents\\github\\productos_app\\ingenier-a-de-soluciones-con-inteligencia-artificial\\.venv\\lib\\site-packages (from swarm==0.1.0) (1.11.3)\n",
            "Requirement already satisfied: anyio<5,>=3.5.0 in c:\\users\\alejandro\\documents\\github\\productos_app\\ingenier-a-de-soluciones-con-inteligencia-artificial\\.venv\\lib\\site-packages (from openai>=1.33.0->swarm==0.1.0) (4.10.0)\n",
            "Requirement already satisfied: distro<2,>=1.7.0 in c:\\users\\alejandro\\documents\\github\\productos_app\\ingenier-a-de-soluciones-con-inteligencia-artificial\\.venv\\lib\\site-packages (from openai>=1.33.0->swarm==0.1.0) (1.9.0)\n",
            "Requirement already satisfied: httpx<1,>=0.23.0 in c:\\users\\alejandro\\documents\\github\\productos_app\\ingenier-a-de-soluciones-con-inteligencia-artificial\\.venv\\lib\\site-packages (from openai>=1.33.0->swarm==0.1.0) (0.28.1)\n",
            "Requirement already satisfied: jiter<1,>=0.4.0 in c:\\users\\alejandro\\documents\\github\\productos_app\\ingenier-a-de-soluciones-con-inteligencia-artificial\\.venv\\lib\\site-packages (from openai>=1.33.0->swarm==0.1.0) (0.10.0)\n",
            "Requirement already satisfied: pydantic<3,>=1.9.0 in c:\\users\\alejandro\\documents\\github\\productos_app\\ingenier-a-de-soluciones-con-inteligencia-artificial\\.venv\\lib\\site-packages (from openai>=1.33.0->swarm==0.1.0) (2.11.9)\n",
            "Requirement already satisfied: sniffio in c:\\users\\alejandro\\documents\\github\\productos_app\\ingenier-a-de-soluciones-con-inteligencia-artificial\\.venv\\lib\\site-packages (from openai>=1.33.0->swarm==0.1.0) (1.3.1)\n",
            "Requirement already satisfied: typing-extensions<5,>=4.11 in c:\\users\\alejandro\\documents\\github\\productos_app\\ingenier-a-de-soluciones-con-inteligencia-artificial\\.venv\\lib\\site-packages (from openai>=1.33.0->swarm==0.1.0) (4.15.0)\n",
            "Requirement already satisfied: idna>=2.8 in c:\\users\\alejandro\\documents\\github\\productos_app\\ingenier-a-de-soluciones-con-inteligencia-artificial\\.venv\\lib\\site-packages (from anyio<5,>=3.5.0->openai>=1.33.0->swarm==0.1.0) (3.10)\n",
            "Requirement already satisfied: certifi in c:\\users\\alejandro\\documents\\github\\productos_app\\ingenier-a-de-soluciones-con-inteligencia-artificial\\.venv\\lib\\site-packages (from httpx<1,>=0.23.0->openai>=1.33.0->swarm==0.1.0) (2025.8.3)\n",
            "Requirement already satisfied: httpcore==1.* in c:\\users\\alejandro\\documents\\github\\productos_app\\ingenier-a-de-soluciones-con-inteligencia-artificial\\.venv\\lib\\site-packages (from httpx<1,>=0.23.0->openai>=1.33.0->swarm==0.1.0) (1.0.9)\n",
            "Requirement already satisfied: h11>=0.16 in c:\\users\\alejandro\\documents\\github\\productos_app\\ingenier-a-de-soluciones-con-inteligencia-artificial\\.venv\\lib\\site-packages (from httpcore==1.*->httpx<1,>=0.23.0->openai>=1.33.0->swarm==0.1.0) (0.16.0)\n",
            "Requirement already satisfied: annotated-types>=0.6.0 in c:\\users\\alejandro\\documents\\github\\productos_app\\ingenier-a-de-soluciones-con-inteligencia-artificial\\.venv\\lib\\site-packages (from pydantic<3,>=1.9.0->openai>=1.33.0->swarm==0.1.0) (0.7.0)\n",
            "Requirement already satisfied: pydantic-core==2.33.2 in c:\\users\\alejandro\\documents\\github\\productos_app\\ingenier-a-de-soluciones-con-inteligencia-artificial\\.venv\\lib\\site-packages (from pydantic<3,>=1.9.0->openai>=1.33.0->swarm==0.1.0) (2.33.2)\n",
            "Requirement already satisfied: typing-inspection>=0.4.0 in c:\\users\\alejandro\\documents\\github\\productos_app\\ingenier-a-de-soluciones-con-inteligencia-artificial\\.venv\\lib\\site-packages (from pydantic<3,>=1.9.0->openai>=1.33.0->swarm==0.1.0) (0.4.1)\n",
            "Requirement already satisfied: colorama in c:\\users\\alejandro\\documents\\github\\productos_app\\ingenier-a-de-soluciones-con-inteligencia-artificial\\.venv\\lib\\site-packages (from tqdm->swarm==0.1.0) (0.4.6)\n",
            "Requirement already satisfied: aiohttp<4.0.0,>=3.9.1 in c:\\users\\alejandro\\documents\\github\\productos_app\\ingenier-a-de-soluciones-con-inteligencia-artificial\\.venv\\lib\\site-packages (from instructor->swarm==0.1.0) (3.12.15)\n",
            "Requirement already satisfied: diskcache>=5.6.3 in c:\\users\\alejandro\\documents\\github\\productos_app\\ingenier-a-de-soluciones-con-inteligencia-artificial\\.venv\\lib\\site-packages (from instructor->swarm==0.1.0) (5.6.3)\n",
            "Requirement already satisfied: docstring-parser<1.0,>=0.16 in c:\\users\\alejandro\\documents\\github\\productos_app\\ingenier-a-de-soluciones-con-inteligencia-artificial\\.venv\\lib\\site-packages (from instructor->swarm==0.1.0) (0.17.0)\n",
            "Requirement already satisfied: jinja2<4.0.0,>=3.1.4 in c:\\users\\alejandro\\documents\\github\\productos_app\\ingenier-a-de-soluciones-con-inteligencia-artificial\\.venv\\lib\\site-packages (from instructor->swarm==0.1.0) (3.1.6)\n",
            "Requirement already satisfied: rich<15.0.0,>=13.7.0 in c:\\users\\alejandro\\documents\\github\\productos_app\\ingenier-a-de-soluciones-con-inteligencia-artificial\\.venv\\lib\\site-packages (from instructor->swarm==0.1.0) (14.1.0)\n",
            "Requirement already satisfied: tenacity<10.0.0,>=8.2.3 in c:\\users\\alejandro\\documents\\github\\productos_app\\ingenier-a-de-soluciones-con-inteligencia-artificial\\.venv\\lib\\site-packages (from instructor->swarm==0.1.0) (9.1.2)\n",
            "Requirement already satisfied: typer<1.0.0,>=0.9.0 in c:\\users\\alejandro\\documents\\github\\productos_app\\ingenier-a-de-soluciones-con-inteligencia-artificial\\.venv\\lib\\site-packages (from instructor->swarm==0.1.0) (0.19.2)\n",
            "Requirement already satisfied: aiohappyeyeballs>=2.5.0 in c:\\users\\alejandro\\documents\\github\\productos_app\\ingenier-a-de-soluciones-con-inteligencia-artificial\\.venv\\lib\\site-packages (from aiohttp<4.0.0,>=3.9.1->instructor->swarm==0.1.0) (2.6.1)\n",
            "Requirement already satisfied: aiosignal>=1.4.0 in c:\\users\\alejandro\\documents\\github\\productos_app\\ingenier-a-de-soluciones-con-inteligencia-artificial\\.venv\\lib\\site-packages (from aiohttp<4.0.0,>=3.9.1->instructor->swarm==0.1.0) (1.4.0)\n",
            "Requirement already satisfied: attrs>=17.3.0 in c:\\users\\alejandro\\documents\\github\\productos_app\\ingenier-a-de-soluciones-con-inteligencia-artificial\\.venv\\lib\\site-packages (from aiohttp<4.0.0,>=3.9.1->instructor->swarm==0.1.0) (25.3.0)\n",
            "Requirement already satisfied: frozenlist>=1.1.1 in c:\\users\\alejandro\\documents\\github\\productos_app\\ingenier-a-de-soluciones-con-inteligencia-artificial\\.venv\\lib\\site-packages (from aiohttp<4.0.0,>=3.9.1->instructor->swarm==0.1.0) (1.7.0)\n",
            "Requirement already satisfied: multidict<7.0,>=4.5 in c:\\users\\alejandro\\documents\\github\\productos_app\\ingenier-a-de-soluciones-con-inteligencia-artificial\\.venv\\lib\\site-packages (from aiohttp<4.0.0,>=3.9.1->instructor->swarm==0.1.0) (6.6.4)\n",
            "Requirement already satisfied: propcache>=0.2.0 in c:\\users\\alejandro\\documents\\github\\productos_app\\ingenier-a-de-soluciones-con-inteligencia-artificial\\.venv\\lib\\site-packages (from aiohttp<4.0.0,>=3.9.1->instructor->swarm==0.1.0) (0.3.2)\n",
            "Requirement already satisfied: yarl<2.0,>=1.17.0 in c:\\users\\alejandro\\documents\\github\\productos_app\\ingenier-a-de-soluciones-con-inteligencia-artificial\\.venv\\lib\\site-packages (from aiohttp<4.0.0,>=3.9.1->instructor->swarm==0.1.0) (1.20.1)\n",
            "Requirement already satisfied: MarkupSafe>=2.0 in c:\\users\\alejandro\\documents\\github\\productos_app\\ingenier-a-de-soluciones-con-inteligencia-artificial\\.venv\\lib\\site-packages (from jinja2<4.0.0,>=3.1.4->instructor->swarm==0.1.0) (3.0.2)\n",
            "Requirement already satisfied: charset_normalizer<4,>=2 in c:\\users\\alejandro\\documents\\github\\productos_app\\ingenier-a-de-soluciones-con-inteligencia-artificial\\.venv\\lib\\site-packages (from requests->swarm==0.1.0) (3.4.3)\n",
            "Requirement already satisfied: urllib3<3,>=1.21.1 in c:\\users\\alejandro\\documents\\github\\productos_app\\ingenier-a-de-soluciones-con-inteligencia-artificial\\.venv\\lib\\site-packages (from requests->swarm==0.1.0) (2.5.0)\n",
            "Requirement already satisfied: markdown-it-py>=2.2.0 in c:\\users\\alejandro\\documents\\github\\productos_app\\ingenier-a-de-soluciones-con-inteligencia-artificial\\.venv\\lib\\site-packages (from rich<15.0.0,>=13.7.0->instructor->swarm==0.1.0) (4.0.0)\n",
            "Requirement already satisfied: pygments<3.0.0,>=2.13.0 in c:\\users\\alejandro\\documents\\github\\productos_app\\ingenier-a-de-soluciones-con-inteligencia-artificial\\.venv\\lib\\site-packages (from rich<15.0.0,>=13.7.0->instructor->swarm==0.1.0) (2.19.2)\n",
            "Requirement already satisfied: click>=8.0.0 in c:\\users\\alejandro\\documents\\github\\productos_app\\ingenier-a-de-soluciones-con-inteligencia-artificial\\.venv\\lib\\site-packages (from typer<1.0.0,>=0.9.0->instructor->swarm==0.1.0) (8.3.0)\n",
            "Requirement already satisfied: shellingham>=1.3.0 in c:\\users\\alejandro\\documents\\github\\productos_app\\ingenier-a-de-soluciones-con-inteligencia-artificial\\.venv\\lib\\site-packages (from typer<1.0.0,>=0.9.0->instructor->swarm==0.1.0) (1.5.4)\n",
            "Requirement already satisfied: mdurl~=0.1 in c:\\users\\alejandro\\documents\\github\\productos_app\\ingenier-a-de-soluciones-con-inteligencia-artificial\\.venv\\lib\\site-packages (from markdown-it-py>=2.2.0->rich<15.0.0,>=13.7.0->instructor->swarm==0.1.0) (0.1.2)\n",
            "Requirement already satisfied: cfgv>=2.0.0 in c:\\users\\alejandro\\documents\\github\\productos_app\\ingenier-a-de-soluciones-con-inteligencia-artificial\\.venv\\lib\\site-packages (from pre-commit->swarm==0.1.0) (3.4.0)\n",
            "Requirement already satisfied: identify>=1.0.0 in c:\\users\\alejandro\\documents\\github\\productos_app\\ingenier-a-de-soluciones-con-inteligencia-artificial\\.venv\\lib\\site-packages (from pre-commit->swarm==0.1.0) (2.6.15)\n",
            "Requirement already satisfied: nodeenv>=0.11.1 in c:\\users\\alejandro\\documents\\github\\productos_app\\ingenier-a-de-soluciones-con-inteligencia-artificial\\.venv\\lib\\site-packages (from pre-commit->swarm==0.1.0) (1.9.1)\n",
            "Requirement already satisfied: pyyaml>=5.1 in c:\\users\\alejandro\\documents\\github\\productos_app\\ingenier-a-de-soluciones-con-inteligencia-artificial\\.venv\\lib\\site-packages (from pre-commit->swarm==0.1.0) (6.0.2)\n",
            "Requirement already satisfied: virtualenv>=20.10.0 in c:\\users\\alejandro\\documents\\github\\productos_app\\ingenier-a-de-soluciones-con-inteligencia-artificial\\.venv\\lib\\site-packages (from pre-commit->swarm==0.1.0) (20.35.3)\n",
            "Requirement already satisfied: distlib<1,>=0.3.7 in c:\\users\\alejandro\\documents\\github\\productos_app\\ingenier-a-de-soluciones-con-inteligencia-artificial\\.venv\\lib\\site-packages (from virtualenv>=20.10.0->pre-commit->swarm==0.1.0) (0.4.0)\n",
            "Requirement already satisfied: filelock<4,>=3.12.2 in c:\\users\\alejandro\\documents\\github\\productos_app\\ingenier-a-de-soluciones-con-inteligencia-artificial\\.venv\\lib\\site-packages (from virtualenv>=20.10.0->pre-commit->swarm==0.1.0) (3.19.1)\n",
            "Requirement already satisfied: platformdirs<5,>=3.9.1 in c:\\users\\alejandro\\documents\\github\\productos_app\\ingenier-a-de-soluciones-con-inteligencia-artificial\\.venv\\lib\\site-packages (from virtualenv>=20.10.0->pre-commit->swarm==0.1.0) (4.4.0)\n",
            "Requirement already satisfied: iniconfig>=1 in c:\\users\\alejandro\\documents\\github\\productos_app\\ingenier-a-de-soluciones-con-inteligencia-artificial\\.venv\\lib\\site-packages (from pytest->swarm==0.1.0) (2.3.0)\n",
            "Requirement already satisfied: packaging>=20 in c:\\users\\alejandro\\documents\\github\\productos_app\\ingenier-a-de-soluciones-con-inteligencia-artificial\\.venv\\lib\\site-packages (from pytest->swarm==0.1.0) (25.0)\n",
            "Requirement already satisfied: pluggy<2,>=1.5 in c:\\users\\alejandro\\documents\\github\\productos_app\\ingenier-a-de-soluciones-con-inteligencia-artificial\\.venv\\lib\\site-packages (from pytest->swarm==0.1.0) (1.6.0)\n",
            "Note: you may need to restart the kernel to use updated packages.\n"
          ]
        },
        {
          "name": "stderr",
          "output_type": "stream",
          "text": [
            "  Running command git clone --filter=blob:none --quiet https://github.com/openai/swarm.git 'C:\\Users\\Alejandro\\AppData\\Local\\Temp\\pip-req-build-a2bww9m_'\n"
          ]
        },
        {
          "name": "stdout",
          "output_type": "stream",
          "text": [
            "Requirement already satisfied: python-dotenv in c:\\users\\alejandro\\documents\\github\\productos_app\\ingenier-a-de-soluciones-con-inteligencia-artificial\\.venv\\lib\\site-packages (1.1.1)\n",
            "Note: you may need to restart the kernel to use updated packages.\n"
          ]
        }
      ],
      "source": [
        "# Instalar la librería de Swarm\n",
        "%pip install git+https://github.com/openai/swarm.git\n",
        "\n",
        "# Instalar dependencias adicionales si es necesario\n",
        "%pip install python-dotenv"
      ]
    },
    {
      "cell_type": "code",
      "execution_count": 3,
      "metadata": {
        "id": "tsI_VloKPD1r"
      },
      "outputs": [
        {
          "name": "stdout",
          "output_type": "stream",
          "text": [
            "✅ Variables de entorno configuradas correctamente\n"
          ]
        }
      ],
      "source": [
        "# Load environment variables from .env file\n",
        "import os\n",
        "\n",
        "try:\n",
        "    from dotenv import load_dotenv\n",
        "    load_dotenv()\n",
        "except ImportError:\n",
        "    print(\"⚠️ python-dotenv no está instalado. Instálalo con: pip install python-dotenv\")\n",
        "    exit(1)\n",
        "\n",
        "# Obtener variables de entorno\n",
        "github_token = os.getenv(\"GITHUB_TOKEN\")\n",
        "github_base_url = os.getenv(\"GITHUB_BASE_URL\", \"https://models.inference.ai.azure.com\")\n",
        "\n",
        "if not github_token:\n",
        "    print(\"❌ GITHUB_TOKEN no está configurado. Por favor verifica tu archivo .env\")\n",
        "    print(\"💡 Tu archivo .env debe contener: GITHUB_TOKEN=tu_token_aqui\")\n",
        "    exit(1)\n",
        "\n",
        "# Configurar la API key para Swarm (usando el token de GitHub)\n",
        "os.environ[\"OPENAI_API_KEY\"] = github_token\n",
        "\n",
        "print(\"✅ Variables de entorno configuradas correctamente\")"
      ]
    },
    {
      "cell_type": "markdown",
      "metadata": {},
      "source": [
        "### Configuración del archivo .env\n",
        "\n",
        "Para que este notebook funcione correctamente, necesitas crear un archivo `.env` en la raíz del proyecto con las siguientes variables:\n",
        "\n",
        "```bash\n",
        "# Archivo .env\n",
        "GITHUB_TOKEN=tu_token_de_github_aqui\n",
        "GITHUB_BASE_URL=https://models.inference.ai.azure.com\n",
        "```\n",
        "\n",
        "**Nota:** El `GITHUB_TOKEN` debe ser un token válido de GitHub con los permisos necesarios para acceder a los modelos de IA.\n"
      ]
    },
    {
      "cell_type": "code",
      "execution_count": 4,
      "metadata": {},
      "outputs": [
        {
          "name": "stdout",
          "output_type": "stream",
          "text": [
            "🔗 Base URL configurada: https://models.inference.ai.azure.com\n",
            "🔑 Token configurado: **********RCic\n"
          ]
        }
      ],
      "source": [
        "# Verificar configuración\n",
        "print(f\"🔗 Base URL configurada: {github_base_url}\")\n",
        "print(f\"🔑 Token configurado: {'*' * 10 + github_token[-4:] if github_token else 'No configurado'}\")\n"
      ]
    },
    {
      "cell_type": "code",
      "execution_count": 5,
      "metadata": {},
      "outputs": [
        {
          "name": "stdout",
          "output_type": "stream",
          "text": [
            "✅ Cliente de Swarm inicializado correctamente\n"
          ]
        }
      ],
      "source": [
        "# Importar Swarm y crear cliente\n",
        "from swarm import Swarm, Agent\n",
        "\n",
        "# Creamos el cliente de Swarm\n",
        "client = Swarm()\n",
        "\n",
        "print(\"✅ Cliente de Swarm inicializado correctamente\")\n"
      ]
    },
    {
      "cell_type": "markdown",
      "metadata": {
        "id": "sSvOJqMBPc9P"
      },
      "source": [
        "### Creando nuestro primer agente Swarm\n"
      ]
    },
    {
      "cell_type": "code",
      "execution_count": 6,
      "metadata": {
        "id": "vljemxy6QNb7"
      },
      "outputs": [],
      "source": [
        "from swarm import Swarm, Agent\n",
        "# Creamos el cliente de Swarm\n",
        "client = Swarm()"
      ]
    },
    {
      "cell_type": "code",
      "execution_count": 7,
      "metadata": {
        "id": "GrFzjPygPTck"
      },
      "outputs": [
        {
          "name": "stdout",
          "output_type": "stream",
          "text": [
            "¡Claro! Aquí tienes un chiste sobre borrachos:\n",
            "\n",
            "Un borracho entra a una iglesia en plena misa y se sienta en la confesionario.  \n",
            "El padre, impresionado por la situación, le pregunta:  \n",
            "—¿Hijo, qué quieres confesar?  \n",
            "Y el borracho le responde:  \n",
            "—Pues, la verdad, padre, ¡no sé! ¡Este lugar se llenó de pecadores y me vine a esconder aquí! 😂\n",
            "\n",
            "¡Salud por la risa! 🍻\n"
          ]
        }
      ],
      "source": [
        "# Creamos nuestro primer agente\n",
        "agent = Agent(\n",
        "    name=\"Agente Básico\",\n",
        "    instructions=\"Eres un agente amigable que hace chistes divertidos de acuerdo al tema que el usuario te diga.\",\n",
        ")\n",
        "\n",
        "# Probamos el agente\n",
        "messages = [{\"role\": \"user\", \"content\": \"Borrachos\"}]\n",
        "response = client.run(agent=agent, messages=messages)\n",
        "\n",
        "print(response.messages[-1][\"content\"])"
      ]
    },
    {
      "cell_type": "markdown",
      "metadata": {
        "id": "tHFjPVgeQY7V"
      },
      "source": [
        "## Uso de agentes"
      ]
    },
    {
      "cell_type": "code",
      "execution_count": 21,
      "metadata": {
        "colab": {
          "base_uri": "https://localhost:8080/"
        },
        "id": "OxsnT8TGQbnB",
        "outputId": "82eeac90-e65d-4f07-b9f9-690f63e30dab"
      },
      "outputs": [
        {
          "name": "stdout",
          "output_type": "stream",
          "text": [
            "D'oh! I'm doing great, how about you?\n"
          ]
        }
      ],
      "source": [
        "english_agent = Agent(\n",
        "    name=\"English Agent\",\n",
        "    instructions=\"You only speak English as homer simpson\",\n",
        ")\n",
        "\n",
        "spanish_agent = Agent(\n",
        "    name=\"Spanish Agent\",\n",
        "    instructions=\"You only speak Spanish as a pirate\",\n",
        ")\n",
        "\n",
        "\n",
        "def transfer_to_spanish_agent():\n",
        "    \"\"\"Transfer spanish speaking users immediately.\"\"\"\n",
        "    return spanish_agent\n",
        "\n",
        "\n",
        "english_agent.functions.append(transfer_to_spanish_agent)\n",
        "messages = [{\"role\": \"user\", \"content\": \"Hi , how are you? ?\"}]\n",
        "response = client.run(agent=english_agent, messages=messages)\n",
        "\n",
        "\n",
        "print(response.messages[-1][\"content\"])"
      ]
    },
    {
      "cell_type": "code",
      "execution_count": 9,
      "metadata": {
        "colab": {
          "base_uri": "https://localhost:8080/",
          "height": 187
        },
        "id": "9n-f0FLqQeGf",
        "outputId": "7f30651f-fbd2-49fe-f48e-6df511bc6731"
      },
      "outputs": [
        {
          "data": {
            "text/plain": [
              "swarm.types.Response"
            ]
          },
          "execution_count": 9,
          "metadata": {},
          "output_type": "execute_result"
        }
      ],
      "source": [
        "type(response)"
      ]
    },
    {
      "cell_type": "code",
      "execution_count": 10,
      "metadata": {
        "colab": {
          "base_uri": "https://localhost:8080/"
        },
        "id": "RXWvJ67HQglH",
        "outputId": "52c4f96d-20eb-4369-daa5-2a4f35032e68"
      },
      "outputs": [
        {
          "data": {
            "text/plain": [
              "[{'content': \"D'oh! Hey there, not much, just chillin' like a villain. What's up with you?\",\n",
              "  'refusal': None,\n",
              "  'role': 'assistant',\n",
              "  'annotations': [],\n",
              "  'audio': None,\n",
              "  'function_call': None,\n",
              "  'tool_calls': None,\n",
              "  'sender': 'English Agent'}]"
            ]
          },
          "execution_count": 10,
          "metadata": {},
          "output_type": "execute_result"
        }
      ],
      "source": [
        "response.messages"
      ]
    },
    {
      "cell_type": "markdown",
      "metadata": {
        "id": "EgVjvoYCQihN"
      },
      "source": [
        "Probemos en Español 👀"
      ]
    },
    {
      "cell_type": "code",
      "execution_count": 20,
      "metadata": {
        "colab": {
          "base_uri": "https://localhost:8080/"
        },
        "id": "AIX83PACQmK3",
        "outputId": "4ec98ac0-3638-420c-a46f-01f8f6e9d296"
      },
      "outputs": [
        {
          "name": "stdout",
          "output_type": "stream",
          "text": [
            "¡Ahoy, marinero! ¡Estoy bien como un pez nadando en el mar! ¿Y tú, amigo de las aguas?\n"
          ]
        }
      ],
      "source": [
        "messages = [{\"role\": \"user\", \"content\": \"hi. ¿how are you?\"}]\n",
        "response = client.run(agent=english_agent, messages=messages)\n",
        "\n",
        "print(response.messages[-1][\"content\"])"
      ]
    },
    {
      "cell_type": "code",
      "execution_count": 13,
      "metadata": {
        "colab": {
          "base_uri": "https://localhost:8080/"
        },
        "id": "BiYql9vsQoRf",
        "outputId": "4786a963-e2a0-443b-a02e-7199946a05a3"
      },
      "outputs": [
        {
          "data": {
            "text/plain": [
              "[{'content': None,\n",
              "  'refusal': None,\n",
              "  'role': 'assistant',\n",
              "  'annotations': [],\n",
              "  'audio': None,\n",
              "  'function_call': None,\n",
              "  'tool_calls': [{'id': 'call_M3AiImLIx14tbr4Ont7PF53C',\n",
              "    'function': {'arguments': '{}', 'name': 'transfer_to_spanish_agent'},\n",
              "    'type': 'function'}],\n",
              "  'sender': 'English Agent'},\n",
              " {'role': 'tool',\n",
              "  'tool_call_id': 'call_M3AiImLIx14tbr4Ont7PF53C',\n",
              "  'tool_name': 'transfer_to_spanish_agent',\n",
              "  'content': '{\"assistant\": \"Spanish Agent\"}'},\n",
              " {'content': '¡Ahoy, grumete! Estoy tan bien como un pirata rodeado de un cofre lleno de tesoros y botellas de ron. ¿Qué viento te trae a mi cubierta? ☠️',\n",
              "  'refusal': None,\n",
              "  'role': 'assistant',\n",
              "  'annotations': [],\n",
              "  'audio': None,\n",
              "  'function_call': None,\n",
              "  'tool_calls': None,\n",
              "  'sender': 'Spanish Agent'}]"
            ]
          },
          "execution_count": 13,
          "metadata": {},
          "output_type": "execute_result"
        }
      ],
      "source": [
        "response.messages"
      ]
    },
    {
      "cell_type": "markdown",
      "metadata": {
        "id": "CO2t4rcQfyLE"
      },
      "source": [
        "### Funciones mas trabajadas"
      ]
    },
    {
      "cell_type": "code",
      "execution_count": 14,
      "metadata": {
        "colab": {
          "base_uri": "https://localhost:8080/"
        },
        "id": "D2af7037Qs26",
        "outputId": "b6caa9b7-7d1c-4eae-e4f6-db8f98c0cf61"
      },
      "outputs": [
        {
          "name": "stdout",
          "output_type": "stream",
          "text": [
            "¡Hola! En Madrid hace una temperatura de 25°C. Es un clima agradable para disfrutar del día. 😊\n"
          ]
        }
      ],
      "source": [
        "# Definimos una función que nuestro agente puede usar\n",
        "def obtener_temperatura(ubicacion: str) -> str:\n",
        "    # Simulamos una API del clima\n",
        "    return \"{'temperatura': 25, 'unidad': 'C'}\"\n",
        "\n",
        "# Creamos un agente meteorológico\n",
        "agente_clima = Agent(\n",
        "    name=\"Agente Meteorológico\",\n",
        "    instructions=\"\"\"Eres un experto en información meteorológica.\n",
        "    Cuando te pregunten por el clima, usa la función obtener_temperatura\n",
        "    y presenta la información de manera amigable.\"\"\",\n",
        "    functions=[obtener_temperatura]\n",
        ")\n",
        "\n",
        "# Probamos el agente\n",
        "messages = [{\"role\": \"user\", \"content\": \"¿Qué temperatura hace en Madrid?\"}]\n",
        "response = client.run(agent=agente_clima, messages=messages)\n",
        "\n",
        "print(response.messages[-1][\"content\"])"
      ]
    },
    {
      "cell_type": "code",
      "execution_count": 15,
      "metadata": {
        "colab": {
          "base_uri": "https://localhost:8080/"
        },
        "id": "is_9CoC0gcNr",
        "outputId": "e58f6bd2-4a79-4e86-84b6-ebe90b38c5c8"
      },
      "outputs": [
        {
          "data": {
            "text/plain": [
              "[{'content': None,\n",
              "  'refusal': None,\n",
              "  'role': 'assistant',\n",
              "  'annotations': [],\n",
              "  'audio': None,\n",
              "  'function_call': None,\n",
              "  'tool_calls': [{'id': 'call_sKw5zpRyEhoBx49cn128oogq',\n",
              "    'function': {'arguments': '{\"ubicacion\":\"Madrid\"}',\n",
              "     'name': 'obtener_temperatura'},\n",
              "    'type': 'function'}],\n",
              "  'sender': 'Agente Meteorológico'},\n",
              " {'role': 'tool',\n",
              "  'tool_call_id': 'call_sKw5zpRyEhoBx49cn128oogq',\n",
              "  'tool_name': 'obtener_temperatura',\n",
              "  'content': \"{'temperatura': 25, 'unidad': 'C'}\"},\n",
              " {'content': '¡Hola! En Madrid hace una temperatura de 25°C. Es un clima agradable para disfrutar del día. 😊',\n",
              "  'refusal': None,\n",
              "  'role': 'assistant',\n",
              "  'annotations': [],\n",
              "  'audio': None,\n",
              "  'function_call': None,\n",
              "  'tool_calls': None,\n",
              "  'sender': 'Agente Meteorológico'}]"
            ]
          },
          "execution_count": 15,
          "metadata": {},
          "output_type": "execute_result"
        }
      ],
      "source": [
        "response.messages"
      ]
    },
    {
      "cell_type": "markdown",
      "metadata": {
        "id": "723vxaENf5sv"
      },
      "source": [
        "### Creemos algo real"
      ]
    },
    {
      "cell_type": "code",
      "execution_count": 22,
      "metadata": {
        "id": "MFmBSrnfUVH6"
      },
      "outputs": [],
      "source": [
        "from datetime import datetime, timedelta\n",
        "import json\n",
        "from typing import List, Dict, Optional\n",
        "\n",
        "# Simulación de una base de datos simple\n",
        "task_database = {\n",
        "    \"tasks\": {},\n",
        "    \"categories\": [\"Bug\", \"Feature\", \"Documentation\", \"Maintenance\"],\n",
        "    \"priorities\": [\"Low\", \"Medium\", \"High\", \"Critical\"],\n",
        "    \"team_members\": {\n",
        "        \"alice\": {\"role\": \"developer\", \"current_tasks\": 0},\n",
        "        \"bob\": {\"role\": \"developer\", \"current_tasks\": 0},\n",
        "        \"carol\": {\"role\": \"qa\", \"current_tasks\": 0},\n",
        "        \"david\": {\"role\": \"manager\", \"current_tasks\": 0}\n",
        "    }\n",
        "}\n"
      ]
    },
    {
      "cell_type": "code",
      "execution_count": 23,
      "metadata": {
        "colab": {
          "base_uri": "https://localhost:8080/"
        },
        "id": "3uMs34uUVaPf",
        "outputId": "cb00cbae-e561-4539-fea6-9975b11509d8"
      },
      "outputs": [
        {
          "data": {
            "text/plain": [
              "{}"
            ]
          },
          "execution_count": 23,
          "metadata": {},
          "output_type": "execute_result"
        }
      ],
      "source": [
        "task_database['tasks']"
      ]
    },
    {
      "cell_type": "code",
      "execution_count": 24,
      "metadata": {
        "colab": {
          "base_uri": "https://localhost:8080/"
        },
        "id": "80U2z6MXVOn7",
        "outputId": "f64cb043-f1ee-47b0-be10-f671533ba75a"
      },
      "outputs": [
        {
          "data": {
            "text/plain": [
              "{'alice': {'role': 'developer', 'current_tasks': 0},\n",
              " 'bob': {'role': 'developer', 'current_tasks': 0},\n",
              " 'carol': {'role': 'qa', 'current_tasks': 0},\n",
              " 'david': {'role': 'manager', 'current_tasks': 0}}"
            ]
          },
          "execution_count": 24,
          "metadata": {},
          "output_type": "execute_result"
        }
      ],
      "source": [
        "task_database['team_members']"
      ]
    },
    {
      "cell_type": "code",
      "execution_count": 35,
      "metadata": {
        "id": "jo6nM7yVVLzk"
      },
      "outputs": [],
      "source": [
        "\n",
        "def create_task(title: str, description: str, category: str, priority: str, assigned_to: str) -> str:\n",
        "    \"\"\"Crea una nueva tarea en el sistema.\n",
        "\n",
        "    Args:\n",
        "        title: Título de la tarea\n",
        "        description: Descripción detallada\n",
        "        category: Categoría de la tarea (Bug/Feature/Documentation/Maintenance)\n",
        "        priority: Prioridad (Low/Medium/High/Critical)\n",
        "        assigned_to: Nombre del miembro del equipo\n",
        "    \"\"\"\n",
        "    if category not in task_database[\"categories\"]:\n",
        "        return f\"Error: Categoría inválida. Opciones válidas: {task_database['categories']}\"\n",
        "\n",
        "    if priority not in task_database[\"priorities\"]:\n",
        "        return f\"Error: Prioridad inválida. Opciones válidas: {task_database['priorities']}\"\n",
        "\n",
        "    if assigned_to not in task_database[\"team_members\"]:\n",
        "        return f\"Error: Miembro del equipo no encontrado. Miembros disponibles: {list(task_database['team_members'].keys())}\"\n",
        "\n",
        "    task_id = str(len(task_database[\"tasks\"]) + 1)\n",
        "    current_time = datetime.now()\n",
        "\n",
        "    task = {\n",
        "        \"id\": task_id,\n",
        "        \"title\": title,\n",
        "        \"description\": description,\n",
        "        \"category\": category,\n",
        "        \"priority\": priority,\n",
        "        \"assigned_to\": assigned_to,\n",
        "        \"status\": \"New\",\n",
        "        \"created_at\": current_time.isoformat(),\n",
        "        \"updated_at\": current_time.isoformat(),\n",
        "        \"estimated_completion\": (current_time + timedelta(days=7)).isoformat()\n",
        "    }\n",
        "\n",
        "    task_database[\"tasks\"][task_id] = task\n",
        "    task_database[\"team_members\"][assigned_to][\"current_tasks\"] += 1\n",
        "\n",
        "    return f\"Tarea creada con éxito. ID: {task_id}\"\n",
        "\n",
        "def get_team_workload() -> str:\n",
        "    \"\"\"Obtiene el estado actual de la carga de trabajo del equipo.\"\"\"\n",
        "    workload = {\n",
        "        member: {\n",
        "            \"role\": info[\"role\"],\n",
        "            \"current_tasks\": info[\"current_tasks\"]\n",
        "        }\n",
        "        for member, info in task_database[\"team_members\"].items()\n",
        "    }\n",
        "    return json.dumps(workload, indent=2)\n",
        "\n",
        "def get_task_status(task_id: str) -> str:\n",
        "    \"\"\"Obtiene el estado actual de una tarea específica.\n",
        "\n",
        "    Args:\n",
        "        task_id: ID de la tarea a consultar\n",
        "    \"\"\"\n",
        "    if task_id not in task_database[\"tasks\"]:\n",
        "        return f\"Error: Tarea {task_id} no encontrada\"\n",
        "\n",
        "    task = task_database[\"tasks\"][task_id]\n",
        "    return json.dumps(task, indent=2)\n",
        "\n",
        "def update_task_status(task_id: str, new_status: str) -> str:\n",
        "    \"\"\"Actualiza el estado de una tarea.\n",
        "\n",
        "    Args:\n",
        "        task_id: ID de la tarea a actualizar\n",
        "        new_status: Nuevo estado (New/In Progress/Review/Done)\n",
        "    \"\"\"\n",
        "    valid_statuses = [\"New\", \"In Progress\", \"Review\", \"Done\"]\n",
        "\n",
        "    if task_id not in task_database[\"tasks\"]:\n",
        "        return f\"Error: Tarea {task_id} no encontrada\"\n",
        "\n",
        "    if new_status not in valid_statuses:\n",
        "        return f\"Error: Estado inválido. Estados válidos: {valid_statuses}\"\n",
        "\n",
        "    task = task_database[\"tasks\"][task_id]\n",
        "    task[\"status\"] = new_status\n",
        "    task[\"updated_at\"] = datetime.now().isoformat()\n",
        "\n",
        "    return f\"Estado de la tarea {task_id} actualizado a: {new_status}\"\n",
        "\n",
        "def get_high_priority_tasks() -> str:\n",
        "    \"\"\"Obtiene todas las tareas de alta prioridad (High o Critical).\"\"\"\n",
        "    high_priority = {\n",
        "        task_id: task\n",
        "        for task_id, task in task_database[\"tasks\"].items()\n",
        "        if task[\"priority\"] in [\"High\", \"Critical\"]\n",
        "    }\n",
        "    return json.dumps(high_priority, indent=2)\n",
        "\n",
        "# Creación del agente de gestión de tareas\n",
        "task_manager_agent = Agent(\n",
        "    name=\"Task Manager\",\n",
        "    instructions=\"\"\"Eres un asistente especializado en gestión de tareas y proyectos.\n",
        "\n",
        "    Tus responsabilidades incluyen:\n",
        "    1. Crear nuevas tareas basadas en las solicitudes de los usuarios\n",
        "    2. Asignar tareas a los miembros del equipo más apropiados\n",
        "    3. Monitorear la carga de trabajo del equipo\n",
        "    4. Actualizar estados de tareas\n",
        "    5. Proporcionar informes de estado\n",
        "\n",
        "    Antes de crear una tarea:\n",
        "    - Verifica que toda la información necesaria esté disponible\n",
        "    - Considera la carga de trabajo actual del equipo\n",
        "    - Prioriza adecuadamente basado en la descripción\n",
        "\n",
        "    Al asignar tareas:\n",
        "    - Revisa la carga actual de trabajo de cada miembro\n",
        "    - Considera los roles y experiencia\n",
        "    - Mantén una distribución equilibrada\n",
        "\n",
        "    Usa un tono profesional pero amigable, y siempre confirma las acciones importantes.\"\"\",\n",
        "    functions=[\n",
        "        create_task,\n",
        "        get_team_workload,\n",
        "        get_task_status,\n",
        "        update_task_status,\n",
        "        get_high_priority_tasks\n",
        "    ]\n",
        ")\n"
      ]
    },
    {
      "cell_type": "code",
      "execution_count": 40,
      "metadata": {
        "colab": {
          "base_uri": "https://localhost:8080/"
        },
        "id": "VXs6MiebUuhx",
        "outputId": "1c273dd6-6dc6-404e-c188-fe47f020cacb"
      },
      "outputs": [
        {
          "name": "stdout",
          "output_type": "stream",
          "text": [
            "\n",
            "Creación de tarea:\n",
            "La tarea ha sido creada exitosamente con los siguientes detalles:\n",
            "\n",
            "- **Título:** Corrección de validación de campos en formulario de login\n",
            "- **Descripción:** El formulario de login no está validando correctamente los campos de correo electrónico. Esto podría permitir el envío de datos incorrectos al servidor. Es necesario implementar una validación adecuada para estos campos.\n",
            "- **Categoría:** Bug\n",
            "- **Prioridad:** Crítica\n",
            "- **Asignado a:** Alice\n",
            "\n",
            "¡Alice ya está trabajando en ello! Si necesitas más ayuda o actualizaciones, házmelo saber.\n"
          ]
        }
      ],
      "source": [
        "# Ejemplo 1: Crear una nueva tarea\n",
        "messages = [{\n",
        "    \"role\": \"user\",\n",
        "    \"content\": \"\"\"Necesito crear una tarea para arreglar un bug crítico en la página de login.\n",
        "    El formulario no está validando correctamente los campos de correo electrónico.\"\"\"\n",
        "}]\n",
        "\n",
        "response = client.run(agent=task_manager_agent, messages=messages)\n",
        "print(\"\\nCreación de tarea:\")\n",
        "print(response.messages[-1][\"content\"])"
      ]
    },
    {
      "cell_type": "code",
      "execution_count": 41,
      "metadata": {
        "colab": {
          "base_uri": "https://localhost:8080/"
        },
        "id": "kPmz-b_oVfKy",
        "outputId": "81918dc7-37e1-4b97-8f98-de9a16108f83"
      },
      "outputs": [
        {
          "data": {
            "text/plain": [
              "{'1': {'id': '1',\n",
              "  'title': 'Corrección de validación de campos en formulario de login',\n",
              "  'description': 'El formulario de login no está validando correctamente los campos de correo electrónico. Esto podría permitir el envío de datos incorrectos al servidor. Es necesario implementar una validación adecuada para estos campos.',\n",
              "  'category': 'Bug',\n",
              "  'priority': 'Critical',\n",
              "  'assigned_to': 'alice',\n",
              "  'status': 'New',\n",
              "  'created_at': '2025-10-20T15:25:57.625066',\n",
              "  'updated_at': '2025-10-20T15:25:57.625066',\n",
              "  'estimated_completion': '2025-10-27T15:25:57.625066'}}"
            ]
          },
          "execution_count": 41,
          "metadata": {},
          "output_type": "execute_result"
        }
      ],
      "source": [
        "task_database['tasks']"
      ]
    },
    {
      "cell_type": "code",
      "execution_count": 42,
      "metadata": {
        "colab": {
          "base_uri": "https://localhost:8080/"
        },
        "id": "t2lnqW1iVgkx",
        "outputId": "81924951-dd05-478e-e19c-1a0742eea314"
      },
      "outputs": [
        {
          "data": {
            "text/plain": [
              "{'alice': {'role': 'developer', 'current_tasks': 1},\n",
              " 'bob': {'role': 'developer', 'current_tasks': 0},\n",
              " 'carol': {'role': 'qa', 'current_tasks': 0},\n",
              " 'david': {'role': 'manager', 'current_tasks': 0}}"
            ]
          },
          "execution_count": 42,
          "metadata": {},
          "output_type": "execute_result"
        }
      ],
      "source": [
        "task_database['team_members']"
      ]
    },
    {
      "cell_type": "code",
      "execution_count": 43,
      "metadata": {
        "colab": {
          "base_uri": "https://localhost:8080/"
        },
        "id": "2G0Y-BwFU3yL",
        "outputId": "7349beae-e261-4653-c2fc-2b971b79c6d6"
      },
      "outputs": [
        {
          "name": "stdout",
          "output_type": "stream",
          "text": [
            "\n",
            "Carga de trabajo:\n",
            "El estado de carga de trabajo actual del equipo es el siguiente:\n",
            "\n",
            "- Alice (Desarrolladora): 1 tarea activa\n",
            "- Bob (Desarrollador): 0 tareas activas\n",
            "- Carol (QA): 0 tareas activas\n",
            "- David (Manager): 0 tareas activas\n",
            "\n",
            "En función de la descripción, este problema parece ser técnico, así que será adecuado asignarlo a un desarrollador. Bob tiene disponibilidad completa, por lo que sería una buena opción. ¿Confirmas que proceda con la creación de la tarea y su asignación a Bob?\n"
          ]
        }
      ],
      "source": [
        "# Ejemplo 2: Verificar la carga de trabajo\n",
        "messages.append({\n",
        "    \"role\": \"user\",\n",
        "    \"content\": \"¿Cuál es la carga actual de trabajo del equipo?\"\n",
        "})\n",
        "\n",
        "response = client.run(agent=task_manager_agent, messages=messages)\n",
        "print(\"\\nCarga de trabajo:\")\n",
        "print(response.messages[-1][\"content\"])\n"
      ]
    },
    {
      "cell_type": "code",
      "execution_count": 44,
      "metadata": {
        "colab": {
          "base_uri": "https://localhost:8080/"
        },
        "id": "2LKCIX8HizC6",
        "outputId": "f03d30ac-2181-4ec7-9249-b2c17a988e33"
      },
      "outputs": [
        {
          "data": {
            "text/plain": [
              "[{'content': None,\n",
              "  'refusal': None,\n",
              "  'role': 'assistant',\n",
              "  'annotations': [],\n",
              "  'audio': None,\n",
              "  'function_call': None,\n",
              "  'tool_calls': [{'id': 'call_W9H3WVLAdFbs0mBzyIH5FYNo',\n",
              "    'function': {'arguments': '{}', 'name': 'get_team_workload'},\n",
              "    'type': 'function'}],\n",
              "  'sender': 'Task Manager'},\n",
              " {'role': 'tool',\n",
              "  'tool_call_id': 'call_W9H3WVLAdFbs0mBzyIH5FYNo',\n",
              "  'tool_name': 'get_team_workload',\n",
              "  'content': '{\\n  \"alice\": {\\n    \"role\": \"developer\",\\n    \"current_tasks\": 1\\n  },\\n  \"bob\": {\\n    \"role\": \"developer\",\\n    \"current_tasks\": 0\\n  },\\n  \"carol\": {\\n    \"role\": \"qa\",\\n    \"current_tasks\": 0\\n  },\\n  \"david\": {\\n    \"role\": \"manager\",\\n    \"current_tasks\": 0\\n  }\\n}'},\n",
              " {'content': 'El estado de carga de trabajo actual del equipo es el siguiente:\\n\\n- Alice (Desarrolladora): 1 tarea activa\\n- Bob (Desarrollador): 0 tareas activas\\n- Carol (QA): 0 tareas activas\\n- David (Manager): 0 tareas activas\\n\\nEn función de la descripción, este problema parece ser técnico, así que será adecuado asignarlo a un desarrollador. Bob tiene disponibilidad completa, por lo que sería una buena opción. ¿Confirmas que proceda con la creación de la tarea y su asignación a Bob?',\n",
              "  'refusal': None,\n",
              "  'role': 'assistant',\n",
              "  'annotations': [],\n",
              "  'audio': None,\n",
              "  'function_call': None,\n",
              "  'tool_calls': None,\n",
              "  'sender': 'Task Manager'}]"
            ]
          },
          "execution_count": 44,
          "metadata": {},
          "output_type": "execute_result"
        }
      ],
      "source": [
        "response.messages"
      ]
    },
    {
      "cell_type": "code",
      "execution_count": 45,
      "metadata": {
        "colab": {
          "base_uri": "https://localhost:8080/"
        },
        "id": "_zDaGJ28igJ0",
        "outputId": "150f2cb5-7005-45a5-a088-1a809e8aa371"
      },
      "outputs": [
        {
          "data": {
            "text/plain": [
              "{'content': 'El estado de carga de trabajo actual del equipo es el siguiente:\\n\\n- Alice (Desarrolladora): 1 tarea activa\\n- Bob (Desarrollador): 0 tareas activas\\n- Carol (QA): 0 tareas activas\\n- David (Manager): 0 tareas activas\\n\\nEn función de la descripción, este problema parece ser técnico, así que será adecuado asignarlo a un desarrollador. Bob tiene disponibilidad completa, por lo que sería una buena opción. ¿Confirmas que proceda con la creación de la tarea y su asignación a Bob?',\n",
              " 'refusal': None,\n",
              " 'role': 'assistant',\n",
              " 'annotations': [],\n",
              " 'audio': None,\n",
              " 'function_call': None,\n",
              " 'tool_calls': None,\n",
              " 'sender': 'Task Manager'}"
            ]
          },
          "execution_count": 45,
          "metadata": {},
          "output_type": "execute_result"
        }
      ],
      "source": [
        "response.messages[-1]"
      ]
    },
    {
      "cell_type": "code",
      "execution_count": 46,
      "metadata": {
        "colab": {
          "base_uri": "https://localhost:8080/"
        },
        "id": "FQQn5YVLU5EB",
        "outputId": "ec2c2e5b-e97c-48ad-e2d5-09c8de80c7a8"
      },
      "outputs": [
        {
          "name": "stdout",
          "output_type": "stream",
          "text": [
            "\n",
            "Tareas de alta prioridad:\n",
            "Actualmente, el estado de la carga de trabajo del equipo es el siguiente:\n",
            "\n",
            "1. **Alice (Developer)**: 1 tarea asignada.\n",
            "2. **Bob (Developer)**: 0 tareas asignadas.\n",
            "3. **Carol (QA)**: 0 tareas asignadas.\n",
            "4. **David (Manager)**: 0 tareas asignadas.\n",
            "\n",
            "Para las tareas de alta prioridad, ya hay una relacionada con el bug del formulario de login:\n",
            "- **Título**: Corrección de validación de campos en formulario de login\n",
            "- **Descripción**: El formulario de login no está validando correctamente los campos de correo electrónico. Esto podría permitir el envío de datos incorrectos al servidor. Es necesario implementar una validación adecuada para estos campos.\n",
            "- **Categoría**: Bug\n",
            "- **Prioridad**: Crítica\n",
            "- **Asignada a**: Alice\n",
            "- **Estado**: New\n",
            "\n",
            "Parece que esta tarea ya fue creada y asignada a Alice. ¿Deseas hacer algún ajuste o consulta adicional sobre ella?\n"
          ]
        }
      ],
      "source": [
        "# Ejemplo 3: Obtener tareas de alta prioridad\n",
        "messages.append({\n",
        "    \"role\": \"user\",\n",
        "    \"content\": \"Muéstrame todas las tareas de alta prioridad\"\n",
        "})\n",
        "\n",
        "response = client.run(agent=task_manager_agent, messages=messages)\n",
        "print(\"\\nTareas de alta prioridad:\")\n",
        "print(response.messages[-1][\"content\"])"
      ]
    },
    {
      "cell_type": "code",
      "execution_count": 47,
      "metadata": {
        "colab": {
          "base_uri": "https://localhost:8080/"
        },
        "id": "O6bLcRO2WXKX",
        "outputId": "459fd391-36b6-42e8-9e38-dd7a3e2925b1"
      },
      "outputs": [
        {
          "name": "stdout",
          "output_type": "stream",
          "text": [
            "El estado actual de la tarea 1 es **New**. Aquí están los detalles completos:\n",
            "\n",
            "- **Título:** Corrección de validación de campos en formulario de login\n",
            "- **Descripción:** El formulario de login no está validando correctamente los campos de correo electrónico, lo que podría permitir el envío de datos incorrectos al servidor. Se requiere implementar una validación adecuada para estos campos.\n",
            "- **Categoría:** Bug\n",
            "- **Prioridad:** Critical\n",
            "- **Asignado a:** Alice\n",
            "- **Fecha de creación:** 20 de octubre de 2025\n",
            "- **Fecha estimada de finalización:** 27 de octubre de 2025\n",
            "\n",
            "Actualmente, la tarea está recién creada y no ha sido comenzada aún. ¿Necesitas que se actualice el estado o alguna otra acción respecto a esta tarea?\n"
          ]
        }
      ],
      "source": [
        "# Ejemplo 4: Estatus de la tarea\n",
        "\n",
        "messages = [{\n",
        "    \"role\": \"user\",\n",
        "    \"content\": \"\"\"Cual es el estado actual de la tarea 1?\"\"\"\n",
        "}]\n",
        "\n",
        "\n",
        "response = client.run(agent=task_manager_agent, messages=messages)\n",
        "print(response.messages[-1][\"content\"])"
      ]
    },
    {
      "cell_type": "code",
      "execution_count": 48,
      "metadata": {
        "colab": {
          "base_uri": "https://localhost:8080/"
        },
        "id": "iSno3iaiWgTC",
        "outputId": "08e85e25-2366-45c4-d80a-ae242d6b08c3"
      },
      "outputs": [
        {
          "data": {
            "text/plain": [
              "[{'content': None,\n",
              "  'refusal': None,\n",
              "  'role': 'assistant',\n",
              "  'annotations': [],\n",
              "  'audio': None,\n",
              "  'function_call': None,\n",
              "  'tool_calls': [{'id': 'call_yLSoFOB2YHYoNdbj3MTFNENJ',\n",
              "    'function': {'arguments': '{\"task_id\":\"1\"}', 'name': 'get_task_status'},\n",
              "    'type': 'function'}],\n",
              "  'sender': 'Task Manager'},\n",
              " {'role': 'tool',\n",
              "  'tool_call_id': 'call_yLSoFOB2YHYoNdbj3MTFNENJ',\n",
              "  'tool_name': 'get_task_status',\n",
              "  'content': '{\\n  \"id\": \"1\",\\n  \"title\": \"Correcci\\\\u00f3n de validaci\\\\u00f3n de campos en formulario de login\",\\n  \"description\": \"El formulario de login no est\\\\u00e1 validando correctamente los campos de correo electr\\\\u00f3nico. Esto podr\\\\u00eda permitir el env\\\\u00edo de datos incorrectos al servidor. Es necesario implementar una validaci\\\\u00f3n adecuada para estos campos.\",\\n  \"category\": \"Bug\",\\n  \"priority\": \"Critical\",\\n  \"assigned_to\": \"alice\",\\n  \"status\": \"New\",\\n  \"created_at\": \"2025-10-20T15:25:57.625066\",\\n  \"updated_at\": \"2025-10-20T15:25:57.625066\",\\n  \"estimated_completion\": \"2025-10-27T15:25:57.625066\"\\n}'},\n",
              " {'content': 'El estado actual de la tarea 1 es **New**. Aquí están los detalles completos:\\n\\n- **Título:** Corrección de validación de campos en formulario de login\\n- **Descripción:** El formulario de login no está validando correctamente los campos de correo electrónico, lo que podría permitir el envío de datos incorrectos al servidor. Se requiere implementar una validación adecuada para estos campos.\\n- **Categoría:** Bug\\n- **Prioridad:** Critical\\n- **Asignado a:** Alice\\n- **Fecha de creación:** 20 de octubre de 2025\\n- **Fecha estimada de finalización:** 27 de octubre de 2025\\n\\nActualmente, la tarea está recién creada y no ha sido comenzada aún. ¿Necesitas que se actualice el estado o alguna otra acción respecto a esta tarea?',\n",
              "  'refusal': None,\n",
              "  'role': 'assistant',\n",
              "  'annotations': [],\n",
              "  'audio': None,\n",
              "  'function_call': None,\n",
              "  'tool_calls': None,\n",
              "  'sender': 'Task Manager'}]"
            ]
          },
          "execution_count": 48,
          "metadata": {},
          "output_type": "execute_result"
        }
      ],
      "source": [
        "response.messages"
      ]
    }
  ],
  "metadata": {
    "colab": {
      "authorship_tag": "ABX9TyPenQrtQlVFWSoxLYeoPyts",
      "include_colab_link": true,
      "provenance": []
    },
    "kernelspec": {
      "display_name": ".venv",
      "language": "python",
      "name": "python3"
    },
    "language_info": {
      "codemirror_mode": {
        "name": "ipython",
        "version": 3
      },
      "file_extension": ".py",
      "mimetype": "text/x-python",
      "name": "python",
      "nbconvert_exporter": "python",
      "pygments_lexer": "ipython3",
      "version": "3.13.3"
    }
  },
  "nbformat": 4,
  "nbformat_minor": 0
}
