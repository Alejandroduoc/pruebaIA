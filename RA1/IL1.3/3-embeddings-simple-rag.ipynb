{
 "cells": [
  {
   "cell_type": "markdown",
   "metadata": {},
   "source": [
    "# 3. Chunking y Embeddings con LangChain y GitHub Models\n",
    "\n",
    "## Objetivos de Aprendizaje\n",
    "- Entender la necesidad de dividir documentos largos en fragmentos (chunking).\n",
    "- Aprender a usar los divisores de texto de LangChain (`RecursiveCharacterTextSplitter`).\n",
    "- Comprender qué son los embeddings y por qué son fundamentales para la búsqueda semántica.\n",
    "- Generar embeddings para los chunks de texto utilizando los modelos de GitHub a través de la API de OpenAI.\n",
    "\n",
    "## De la Búsqueda por Palabras Clave a la Búsqueda Semántica\n",
    "\n",
    "En el notebook anterior, construimos un RAG básico que funcionaba con palabras clave. Sus limitaciones eran claras: no entendía el significado, los sinónimos o el contexto. Para superar esto, necesitamos dos procesos clave:\n",
    "\n",
    "1.  **Chunking**: Si un documento es muy largo, su embedding representará una idea demasiado general. Al dividirlo en chunks más pequeños y cohesivos, cada chunk representa una idea más específica. Esto hace que la búsqueda de similitud sea mucho más precisa.\n",
    "2.  **Embeddings**: Son la pieza central de la búsqueda semántica. Convierten el texto (nuestros chunks) en vectores numéricos en un espacio multidimensional. Los textos con significados similares tendrán vectores cercanos en este espacio, lo que nos permite encontrar información relevante aunque no se usen las mismas palabras."
   ]
  },
  {
   "cell_type": "code",
   "execution_count": null,
   "metadata": {},
   "outputs": [
    {
     "name": "stdout",
     "output_type": "stream",
     "text": [
      "✓ Cliente de OpenAI (compatible con GitHub Models) inicializado.\n"
     ]
    }
   ],
   "source": [
    "import os\n",
    "import string\n",
    "from openai import OpenAI\n",
    "from langchain.text_splitter import RecursiveCharacterTextSplitter\n",
    "from IPython.display import display, Markdown\n",
    "\n",
    "# --- Configuración del Cliente de OpenAI ---\n",
    "def initialize_client():\n",
    "    # Asegúrate de tener las variables de entorno GITHUB_BASE_URL y GITHUB_TOKEN configuradas\n",
    "    client = OpenAI(\n",
    "        base_url=os.getenv(\"GITHUB_BASE_URL\", \"https://models.inference.ai.azure.com\"),\n",
    "        api_key=os.getenv(\"GITHUB_TOKEN\")\n",
    "    )\n",
    "    return client\n",
    "\n",
    "client = initialize_client()\n",
    "print(\"✓ Cliente de OpenAI (compatible con GitHub Models) inicializado.\")"
   ]
  },
  {
   "cell_type": "markdown",
   "metadata": {},
   "source": [
    "## 1. El Documento a Procesar\n",
    "\n",
    "Comenzamos con un documento de texto más largo que los que usamos en el notebook anterior. Este texto sobre la historia de la inteligencia artificial es ideal para demostrar la necesidad del chunking."
   ]
  },
  {
   "cell_type": "code",
   "execution_count": 3,
   "metadata": {},
   "outputs": [
    {
     "data": {
      "text/markdown": [
       "### 📜 Documento Original"
      ],
      "text/plain": [
       "<IPython.core.display.Markdown object>"
      ]
     },
     "metadata": {},
     "output_type": "display_data"
    },
    {
     "name": "stdout",
     "output_type": "stream",
     "text": [
      "La historia de la inteligencia artificial (IA) es una narrativa fascinante de ambición, innovación y perseverancia. Sus raíces se remontan a la década de 1950, cuando pioneros como Alan Turing plantearon la pregunta de si las máquinas podían pensar. El término 'inteligencia artificial' fue acuñado por John McCarthy en 1956 en la famosa Conferencia de Dartmouth, considerada el nacimiento oficial de la IA como campo de estudio. Los primeros años estuvieron marcados por un gran optimismo, con la creación de programas como el Logic Theorist y el General Problem Solver, que podían resolver problemas de lógica y teoremas matemáticos. Sin embargo, las limitaciones computacionales y la complejidad de los problemas del mundo real llevaron al primer 'invierno de la IA' en la década de 1970, un período de reducción de fondos y escepticismo. El resurgimiento llegó en la década de 1980 con el auge de los sistemas expertos, programas que encapsulaban el conocimiento de un experto humano en un dominio específico, como el diagnóstico médico (por ejemplo, MYCIN). Estos sistemas demostraron el valor comercial de la IA, pero su fragilidad y el alto costo de mantenimiento condujeron a un segundo invierno a finales de los 80 y principios de los 90. La revolución moderna de la IA comenzó a gestarse a finales de los 90 y principios de los 2000, impulsada por tres factores clave: la disponibilidad de grandes volúmenes de datos (Big Data), el desarrollo de hardware más potente (especialmente las GPU) y los avances en algoritmos de aprendizaje automático, en particular las redes neuronales profundas (deep learning). Hitos como la victoria de Deep Blue de IBM sobre el campeón de ajedrez Garry Kasparov en 1997 y, más tarde, el triunfo de AlphaGo de DeepMind en el juego de Go en 2016, demostraron el poder del aprendizaje por refuerzo y el deep learning. Hoy, vivimos en la era de los modelos de lenguaje grande (LLM) como GPT y Claude, y los modelos de difusión para la generación de imágenes, que han llevado la IA a la corriente principal, transformando industrias y planteando nuevas preguntas sobre el futuro de la tecnología y la humanidad.\n",
      "Longitud del texto: 2148 caracteres.\n"
     ]
    }
   ],
   "source": [
    "long_text = (\n",
    "    \"La historia de la inteligencia artificial (IA) es una narrativa fascinante de ambición, innovación y perseverancia. \"\n",
    "    \"Sus raíces se remontan a la década de 1950, cuando pioneros como Alan Turing plantearon la pregunta de si las máquinas podían pensar. \"\n",
    "    \"El término 'inteligencia artificial' fue acuñado por John McCarthy en 1956 en la famosa Conferencia de Dartmouth, considerada el nacimiento oficial de la IA como campo de estudio. \"\n",
    "    \"Los primeros años estuvieron marcados por un gran optimismo, con la creación de programas como el Logic Theorist y el General Problem Solver, que podían resolver problemas de lógica y teoremas matemáticos. \"\n",
    "    \"Sin embargo, las limitaciones computacionales y la complejidad de los problemas del mundo real llevaron al primer 'invierno de la IA' en la década de 1970, un período de reducción de fondos y escepticismo. \"\n",
    "    \"El resurgimiento llegó en la década de 1980 con el auge de los sistemas expertos, programas que encapsulaban el conocimiento de un experto humano en un dominio específico, como el diagnóstico médico (por ejemplo, MYCIN). \"\n",
    "    \"Estos sistemas demostraron el valor comercial de la IA, pero su fragilidad y el alto costo de mantenimiento condujeron a un segundo invierno a finales de los 80 y principios de los 90. \"\n",
    "    \"La revolución moderna de la IA comenzó a gestarse a finales de los 90 y principios de los 2000, impulsada por tres factores clave: la disponibilidad de grandes volúmenes de datos (Big Data), el desarrollo de hardware más potente (especialmente las GPU) y los avances en algoritmos de aprendizaje automático, en particular las redes neuronales profundas (deep learning). \"\n",
    "    \"Hitos como la victoria de Deep Blue de IBM sobre el campeón de ajedrez Garry Kasparov en 1997 y, más tarde, el triunfo de AlphaGo de DeepMind en el juego de Go en 2016, demostraron el poder del aprendizaje por refuerzo y el deep learning. \"\n",
    "    \"Hoy, vivimos en la era de los modelos de lenguaje grande (LLM) como GPT y Claude, y los modelos de difusión para la generación de imágenes, que han llevado la IA a la corriente principal, transformando industrias y planteando nuevas preguntas sobre el futuro de la tecnología y la humanidad.\"\n",
    ")\n",
    "\n",
    "display(Markdown(\"### 📜 Documento Original\"))\n",
    "print(long_text)\n",
    "print(f\"Longitud del texto: {len(long_text)} caracteres.\")"
   ]
  },
  {
   "cell_type": "markdown",
   "metadata": {},
   "source": [
    "## 2. Chunking con `RecursiveCharacterTextSplitter`\n",
    "\n",
    "LangChain ofrece varias herramientas para dividir texto. `RecursiveCharacterTextSplitter` es una de las más recomendadas porque intenta dividir el texto basándose en una jerarquía de separadores (como saltos de línea dobles, saltos de línea simples, espacios, etc.) para mantener los fragmentos lo más coherentes posible.\n",
    "\n",
    "-   `chunk_size`: Define el tamaño máximo de cada chunk (en caracteres).\n",
    "-   `chunk_overlap`: Define cuántos caracteres se superponen entre chunks consecutivos. Esto es crucial para no perder el contexto que podría existir justo en el límite entre dos chunks."
   ]
  },
  {
   "cell_type": "code",
   "execution_count": 4,
   "metadata": {},
   "outputs": [
    {
     "data": {
      "text/markdown": [
       "### 🧩 Documento Dividido en 7 Chunks"
      ],
      "text/plain": [
       "<IPython.core.display.Markdown object>"
      ]
     },
     "metadata": {},
     "output_type": "display_data"
    },
    {
     "name": "stdout",
     "output_type": "stream",
     "text": [
      "--- CHUNK 1 (Longitud: 349) ---\n",
      "La historia de la inteligencia artificial (IA) es una narrativa fascinante de ambición, innovación y perseverancia. Sus raíces se remontan a la década de 1950, cuando pioneros como Alan Turing plantearon la pregunta de si las máquinas podían pensar. El término 'inteligencia artificial' fue acuñado por John McCarthy en 1956 en la famosa Conferencia\n",
      "\n",
      "--- CHUNK 2 (Longitud: 349) ---\n",
      "John McCarthy en 1956 en la famosa Conferencia de Dartmouth, considerada el nacimiento oficial de la IA como campo de estudio. Los primeros años estuvieron marcados por un gran optimismo, con la creación de programas como el Logic Theorist y el General Problem Solver, que podían resolver problemas de lógica y teoremas matemáticos. Sin embargo, las\n",
      "\n",
      "--- CHUNK 3 (Longitud: 348) ---\n",
      "lógica y teoremas matemáticos. Sin embargo, las limitaciones computacionales y la complejidad de los problemas del mundo real llevaron al primer 'invierno de la IA' en la década de 1970, un período de reducción de fondos y escepticismo. El resurgimiento llegó en la década de 1980 con el auge de los sistemas expertos, programas que encapsulaban el\n",
      "\n",
      "--- CHUNK 4 (Longitud: 345) ---\n",
      "sistemas expertos, programas que encapsulaban el conocimiento de un experto humano en un dominio específico, como el diagnóstico médico (por ejemplo, MYCIN). Estos sistemas demostraron el valor comercial de la IA, pero su fragilidad y el alto costo de mantenimiento condujeron a un segundo invierno a finales de los 80 y principios de los 90. La\n",
      "\n",
      "--- CHUNK 5 (Longitud: 339) ---\n",
      "a finales de los 80 y principios de los 90. La revolución moderna de la IA comenzó a gestarse a finales de los 90 y principios de los 2000, impulsada por tres factores clave: la disponibilidad de grandes volúmenes de datos (Big Data), el desarrollo de hardware más potente (especialmente las GPU) y los avances en algoritmos de aprendizaje\n",
      "\n",
      "--- CHUNK 6 (Longitud: 345) ---\n",
      "GPU) y los avances en algoritmos de aprendizaje automático, en particular las redes neuronales profundas (deep learning). Hitos como la victoria de Deep Blue de IBM sobre el campeón de ajedrez Garry Kasparov en 1997 y, más tarde, el triunfo de AlphaGo de DeepMind en el juego de Go en 2016, demostraron el poder del aprendizaje por refuerzo y el\n",
      "\n",
      "--- CHUNK 7 (Longitud: 349) ---\n",
      "el poder del aprendizaje por refuerzo y el deep learning. Hoy, vivimos en la era de los modelos de lenguaje grande (LLM) como GPT y Claude, y los modelos de difusión para la generación de imágenes, que han llevado la IA a la corriente principal, transformando industrias y planteando nuevas preguntas sobre el futuro de la tecnología y la humanidad.\n",
      "\n"
     ]
    }
   ],
   "source": [
    "# 1. Inicializar el divisor de texto\n",
    "text_splitter = RecursiveCharacterTextSplitter(\n",
    "    chunk_size=350,  # Tamaño del chunk en caracteres\n",
    "    chunk_overlap=50,  # Superposición para mantener contexto\n",
    "    length_function=len\n",
    ")\n",
    "\n",
    "# 2. Dividir el documento en chunks\n",
    "chunks = text_splitter.split_text(long_text)\n",
    "\n",
    "display(Markdown(f\"### 🧩 Documento Dividido en {len(chunks)} Chunks\"))\n",
    "\n",
    "# 3. Mostrar los chunks resultantes\n",
    "for i, chunk in enumerate(chunks):\n",
    "    print(f\"--- CHUNK {i+1} (Longitud: {len(chunk)}) ---\")\n",
    "    print(chunk)\n",
    "    print()"
   ]
  },
  {
   "cell_type": "markdown",
   "metadata": {},
   "source": [
    "## 3. Generación de Embeddings para cada Chunk\n",
    "\n",
    "Ahora que tenemos nuestros chunks, el siguiente paso es convertirlos en vectores numéricos. Usaremos el modelo `text-embedding-3-small`, que es eficiente y potente.\n",
    "\n",
    "El resultado será una lista de vectores, donde cada vector corresponde a un chunk de nuestro documento."
   ]
  },
  {
   "cell_type": "code",
   "execution_count": 6,
   "metadata": {},
   "outputs": [
    {
     "name": "stdout",
     "output_type": "stream",
     "text": [
      "✓ Se generaron 7 embeddings.\n",
      "Dimensión de cada embedding: 1536\n"
     ]
    },
    {
     "data": {
      "text/markdown": [
       "### 🔍 Ejemplo: Chunk y su Embedding"
      ],
      "text/plain": [
       "<IPython.core.display.Markdown object>"
      ]
     },
     "metadata": {},
     "output_type": "display_data"
    },
    {
     "name": "stdout",
     "output_type": "stream",
     "text": [
      "**Texto del Chunk 1:**La historia de la inteligencia artificial (IA) es una narrativa fascinante de ambición, innovación y perseverancia. Sus raíces se remontan a la década de 1950, cuando pioneros como Alan Turing plantearon la pregunta de si las máquinas podían pensar. El término 'inteligencia artificial' fue acuñado por John McCarthy en 1956 en la famosa Conferencia\n",
      "**Embedding (primeros 10 de 1536 dimensiones):**[0.027127915993332863, 0.009841188788414001, 0.00236149481497705, -0.007694374769926071, 0.016413364559412003, -0.01881389319896698, 0.017398947849869728, 0.05039156973361969, -0.010656001977622509, -0.006372132804244757]...\n"
     ]
    }
   ],
   "source": [
    "def get_embeddings(client, texts):\n",
    "    \"\"\"Función para obtener embeddings de una lista de textos.\"\"\"\n",
    "    response = client.embeddings.create(\n",
    "        model=\"text-embedding-3-small\",\n",
    "        input=texts\n",
    "    )\n",
    "    return [item.embedding for item in response.data]\n",
    "\n",
    "# Generar embeddings para todos los chunks\n",
    "try:\n",
    "    chunk_embeddings = get_embeddings(client, chunks)\n",
    "    print(f\"✓ Se generaron {len(chunk_embeddings)} embeddings.\")\n",
    "    print(f\"Dimensión de cada embedding: {len(chunk_embeddings[0])}\")\n",
    "except Exception as e:\n",
    "    print(f\"❌ Error al generar embeddings: {e}\")\n",
    "\n",
    "# Mostrar un ejemplo de un chunk y su embedding correspondiente\n",
    "if 'chunk_embeddings' in locals() and chunk_embeddings:\n",
    "    display(Markdown(\"### 🔍 Ejemplo: Chunk y su Embedding\"))\n",
    "    \n",
    "    example_index = 0\n",
    "    example_chunk = chunks[example_index]\n",
    "    example_embedding = chunk_embeddings[example_index]\n",
    "    \n",
    "    print(f\"**Texto del Chunk {example_index + 1}:**{example_chunk}\")\n",
    "    print(f\"**Embedding (primeros 10 de {len(example_embedding)} dimensiones):**{example_embedding[:10]}...\")"
   ]
  },
  {
   "cell_type": "markdown",
   "metadata": {},
   "source": [
    "## 4. Conclusiones y Próximos Pasos\n",
    "\n",
    "¡Felicidades! Has completado los dos pasos fundamentales para pasar de un RAG básico a uno semántico:\n",
    "\n",
    "1.  **Has dividido un documento largo en chunks manejables y coherentes.**\n",
    "2.  **Has convertido cada chunk de texto en un vector numérico (embedding) que captura su significado.**\n",
    "\n",
    "Con esta lista de chunks y su correspondiente lista de embeddings, ahora tienes una **base de conocimiento vectorial**. \n",
    "\n",
    "**En el próximo notebook (`3-vector-rag.ipynb`), aprenderás a:**\n",
    "-   Tomar una consulta del usuario y generar también su embedding.\n",
    "-   Usar la **similitud coseno** para comparar el vector de la consulta con todos los vectores de los chunks.\n",
    "-   Seleccionar los chunks más similares (los que tienen la puntuación de similitud más alta) para usarlos como contexto en la generación de la respuesta."
   ]
  }
 ],
 "metadata": {
  "kernelspec": {
   "display_name": ".venv",
   "language": "python",
   "name": "python3"
  },
  "language_info": {
   "codemirror_mode": {
    "name": "ipython",
    "version": 3
   },
   "file_extension": ".py",
   "mimetype": "text/x-python",
   "name": "python",
   "nbconvert_exporter": "python",
   "pygments_lexer": "ipython3",
   "version": "3.13.3"
  }
 },
 "nbformat": 4,
 "nbformat_minor": 4
}
