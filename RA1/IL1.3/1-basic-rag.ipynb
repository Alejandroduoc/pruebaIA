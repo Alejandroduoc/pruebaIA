{
 "cells": [
  {
   "cell_type": "markdown",
   "metadata": {},
   "source": [
    "# 1. RAG Básico - Implementación con Streamlit\n",
    "\n",
    "## Objetivos de Aprendizaje\n",
    "- Comprender los componentes fundamentales de un sistema RAG\n",
    "- Implementar una búsqueda por palabras clave simple\n",
    "- Generar respuestas basadas en contexto recuperado\n",
    "- Construir una interfaz interactiva con Streamlit\n",
    "\n",
    "## ¿Qué es RAG (Retrieval-Augmented Generation)?\n",
    "\n",
    "RAG es una arquitectura que combina dos fases para generar respuestas:\n",
    "1. **Retrieval (Recuperación)**: Busca y recupera información relevante de una base de conocimiento.\n",
    "2. **Generation (Generación)**: Utiliza la información recuperada como contexto para que un LLM genere una respuesta precisa y fundamentada.\n",
    "\n",
    "### Ventajas:\n",
    "- **Reduce alucinaciones**: Las respuestas se basan en datos concretos.\n",
    "- **Conocimiento actualizado**: La base de conocimiento puede actualizarse fácilmente.\n",
    "- **Transparencia**: Se puede citar la fuente de la información.\n",
    "\n",
    "### Componentes de nuestro RAG Básico:\n",
    "- **Base de documentos**: Una lista de strings en memoria.\n",
    "- **Mecanismo de retrieval**: Búsqueda simple por coincidencia de palabras clave.\n",
    "- **Generador**: Un LLM (GPT-4o) que recibe el contexto y la pregunta."
   ]
  },
  {
   "cell_type": "markdown",
   "metadata": {},
   "source": [
    "# Instalación de dependencias\n",
    "!pip install openai streamlit"
   ]
  },
  {
   "cell_type": "code",
   "execution_count": 1,
   "metadata": {},
   "outputs": [
    {
     "name": "stdout",
     "output_type": "stream",
     "text": [
      "✅ Librerías importadas correctamente\n"
     ]
    }
   ],
   "source": [
    "# Celda 2: Importaciones y configuración\n",
    "import os\n",
    "from openai import OpenAI\n",
    "import json\n",
    "\n",
    "print(\"✅ Librerías importadas correctamente\")"
   ]
  },
  {
   "cell_type": "code",
   "execution_count": 2,
   "metadata": {},
   "outputs": [
    {
     "name": "stdout",
     "output_type": "stream",
     "text": [
      "✅ Cliente OpenAI inicializado\n"
     ]
    }
   ],
   "source": [
    "# Inicialización del cliente OpenAI\n",
    "def initialize_client():\n",
    "    client = OpenAI(\n",
    "        base_url=os.getenv(\"GITHUB_BASE_URL\", \"https://models.inference.ai.azure.com\"),\n",
    "        api_key=os.getenv(\"GITHUB_TOKEN\")\n",
    "    )\n",
    "    return client\n",
    "\n",
    "client = initialize_client()\n",
    "print(\"✅ Cliente OpenAI inicializado\")"
   ]
  },
  {
   "cell_type": "markdown",
   "metadata": {},
   "source": [
    "# Base de documentos\n",
    "\n",
    "Cargamos la base de documentos que vamos a utilizar para el RAG. En este caso, vamos a utilizar una base de documentos que contiene información sobre la historia de Argentina."
   ]
  },
  {
   "cell_type": "code",
   "execution_count": 3,
   "metadata": {},
   "outputs": [
    {
     "name": "stdout",
     "output_type": "stream",
     "text": [
      "📚 Base de documentos creada con 5 documentos:\n",
      "1. La inteligencia artificial es una rama de la informática que...\n",
      "2. Los modelos de lenguaje grande (LLM) son sistemas de IA entr...\n",
      "3. RAG (Retrieval-Augmented Generation) combina la búsqueda de ...\n",
      "4. LangChain es un framework que facilita el desarrollo de apli...\n",
      "5. El prompt engineering es la práctica de diseñar instruccione...\n"
     ]
    }
   ],
   "source": [
    "documents = [\n",
    "    \"La inteligencia artificial es una rama de la informática que busca crear máquinas capaces de realizar tareas que requieren inteligencia humana.\",\n",
    "    \"Los modelos de lenguaje grande (LLM) son sistemas de IA entrenados en enormes cantidades de texto para generar y comprender lenguaje natural.\",\n",
    "    \"RAG (Retrieval-Augmented Generation) combina la búsqueda de información relevante con la generación de texto para producir respuestas más precisas.\",\n",
    "    \"LangChain es un framework que facilita el desarrollo de aplicaciones con modelos de lenguaje, proporcionando herramientas para cadenas y agentes.\",\n",
    "    \"El prompt engineering es la práctica de diseñar instrucciones efectivas para obtener los mejores resultados de los modelos de IA.\"\n",
    "]\n",
    "\n",
    "print(f\"📚 Base de documentos creada con {len(documents)} documentos:\")\n",
    "for i, doc in enumerate(documents, 1):\n",
    "    print(f\"{i}. {doc[:60]}...\")"
   ]
  },
  {
   "cell_type": "markdown",
   "metadata": {},
   "source": [
    "# Función de recuperación simple\n",
    "\n",
    "La función simple_retrieval() es una función que toma una pregunta y un índice, y devuelve una lista de documentos relevantes. En este caso, la función simplemente devuelve los primeros 3 documentos del índice."
   ]
  },
  {
   "cell_type": "code",
   "execution_count": 4,
   "metadata": {},
   "outputs": [
    {
     "name": "stdout",
     "output_type": "stream",
     "text": [
      "🔍 Prueba de recuperación para: '¿Qué es la inteligencia artificial?'\n",
      "Documentos relevantes encontrados: 3\n",
      "1. La inteligencia artificial es una rama de la informática que busca crear máquinas capaces de realizar tareas que requieren inteligencia humana.\n",
      "2. Los modelos de lenguaje grande (LLM) son sistemas de IA entrenados en enormes cantidades de texto para generar y comprender lenguaje natural.\n",
      "3. RAG (Retrieval-Augmented Generation) combina la búsqueda de información relevante con la generación de texto para producir respuestas más precisas.\n"
     ]
    }
   ],
   "source": [
    "def simple_retrieval(query, documents):\n",
    "    relevant_docs = []\n",
    "    query_lower = query.lower()\n",
    "    \n",
    "    for doc in documents:\n",
    "        if any(word in doc.lower() for word in query_lower.split()):\n",
    "            relevant_docs.append(doc)\n",
    "    \n",
    "    return relevant_docs[:3]\n",
    "\n",
    "# Prueba de la función de recuperación\n",
    "test_query = \"¿Qué es la inteligencia artificial?\"\n",
    "relevant_docs = simple_retrieval(test_query, documents)\n",
    "\n",
    "print(f\"🔍 Prueba de recuperación para: '{test_query}'\")\n",
    "print(f\"Documentos relevantes encontrados: {len(relevant_docs)}\")\n",
    "for i, doc in enumerate(relevant_docs, 1):\n",
    "    print(f\"{i}. {doc}\")"
   ]
  },
  {
   "cell_type": "markdown",
   "metadata": {},
   "source": [
    "# Función de generación de respuesta\n",
    "La función generate_response se encarga de generar una respuesta a partir de una pregunta y un contexto. Para ello, utiliza un modelo de lenguaje preentrenado y una plantilla de prompt."
   ]
  },
  {
   "cell_type": "code",
   "execution_count": 5,
   "metadata": {},
   "outputs": [
    {
     "name": "stdout",
     "output_type": "stream",
     "text": [
      "✅ Función de generación definida\n"
     ]
    }
   ],
   "source": [
    "def generate_response(client, query, context):\n",
    "    prompt = f\"\"\"Contexto:\n",
    "{context}\n",
    "\n",
    "Pregunta: {query}\n",
    "\n",
    "Responde basándote únicamente en el contexto proporcionado. Si la información no está en el contexto, indica que no tienes esa información.\"\"\"\n",
    "\n",
    "    response = client.chat.completions.create(\n",
    "        model=\"gpt-4.1\",\n",
    "        messages=[{\"role\": \"user\", \"content\": prompt}],\n",
    "        temperature=0.7,\n",
    "        max_tokens=500\n",
    "    )\n",
    "    \n",
    "    return response.choices[0].message.content\n",
    "\n",
    "print(\"✅ Función de generación definida\")"
   ]
  },
  {
   "cell_type": "markdown",
   "metadata": {},
   "source": [
    "# Sistema RAG completo - Ejemplo 1"
   ]
  },
  {
   "cell_type": "code",
   "execution_count": 6,
   "metadata": {},
   "outputs": [
    {
     "name": "stdout",
     "output_type": "stream",
     "text": [
      "❓ Pregunta: ¿Qué es la inteligencia artificial?\n",
      "\n",
      "==================================================\n",
      "📋 Documentos relevantes (3):\n",
      "1. La inteligencia artificial es una rama de la informática que busca crear máquinas capaces de realizar tareas que requieren inteligencia humana.\n",
      "2. Los modelos de lenguaje grande (LLM) son sistemas de IA entrenados en enormes cantidades de texto para generar y comprender lenguaje natural.\n",
      "3. RAG (Retrieval-Augmented Generation) combina la búsqueda de información relevante con la generación de texto para producir respuestas más precisas.\n",
      "\n",
      "🤖 Respuesta:\n",
      "La inteligencia artificial es una rama de la informática que busca crear máquinas capaces de realizar tareas que requieren inteligencia humana.\n"
     ]
    }
   ],
   "source": [
    "query1 = \"¿Qué es la inteligencia artificial?\"\n",
    "\n",
    "print(f\"❓ Pregunta: {query1}\")\n",
    "print(\"\\n\" + \"=\"*50)\n",
    "\n",
    "# Paso 1: Recuperación\n",
    "relevant_docs = simple_retrieval(query1, documents)\n",
    "print(f\"📋 Documentos relevantes ({len(relevant_docs)}):\")\n",
    "for i, doc in enumerate(relevant_docs, 1):\n",
    "    print(f\"{i}. {doc}\")\n",
    "\n",
    "# Paso 2: Generación\n",
    "if relevant_docs:\n",
    "    context = \"\\n\".join(relevant_docs)\n",
    "    response = generate_response(client, query1, context)\n",
    "    print(f\"\\n🤖 Respuesta:\")\n",
    "    print(response)\n",
    "else:\n",
    "    print(\"❌ No se encontraron documentos relevantes\")"
   ]
  },
  {
   "cell_type": "markdown",
   "metadata": {},
   "source": [
    "# Sistema RAG completo - Ejemplo 2"
   ]
  },
  {
   "cell_type": "code",
   "execution_count": 8,
   "metadata": {},
   "outputs": [
    {
     "name": "stdout",
     "output_type": "stream",
     "text": [
      "❓ Pregunta: ¿ Cómo funciona RAG ?\n",
      "\n",
      "==================================================\n",
      "📋 Documentos relevantes (1):\n",
      "1. RAG (Retrieval-Augmented Generation) combina la búsqueda de información relevante con la generación de texto para producir respuestas más precisas.\n",
      "\n",
      "🤖 Respuesta:\n",
      "Basándome únicamente en el contexto proporcionado:\n",
      "\n",
      "RAG (Retrieval-Augmented Generation) funciona combinando la búsqueda de información relevante con la generación de texto para producir respuestas más precisas.\n"
     ]
    }
   ],
   "source": [
    "query2 = \"¿ Cómo funciona RAG ?\"\n",
    "\n",
    "print(f\"❓ Pregunta: {query2}\")\n",
    "print(\"\\n\" + \"=\"*50)\n",
    "\n",
    "# Paso 1: Recuperación\n",
    "relevant_docs = simple_retrieval(query2, documents)\n",
    "print(f\"📋 Documentos relevantes ({len(relevant_docs)}):\")\n",
    "for i, doc in enumerate(relevant_docs, 1):\n",
    "    print(f\"{i}. {doc}\")\n",
    "\n",
    "# Paso 2: Generación\n",
    "if relevant_docs:\n",
    "    context = \"\\n\".join(relevant_docs)\n",
    "    response = generate_response(client, query2, context)\n",
    "    print(f\"\\n🤖 Respuesta:\")\n",
    "    print(response)\n",
    "else:\n",
    "    print(\"❌ No se encontraron documentos relevantes\")"
   ]
  },
  {
   "cell_type": "markdown",
   "metadata": {},
   "source": [
    "# Sistema RAG completo - Ejemplo 3 (pregunta sin contexto)"
   ]
  },
  {
   "cell_type": "code",
   "execution_count": 9,
   "metadata": {},
   "outputs": [
    {
     "name": "stdout",
     "output_type": "stream",
     "text": [
      "❓ Pregunta: ¿Cuál es la capital de Francia?\n",
      "\n",
      "==================================================\n",
      "📋 Documentos relevantes (3):\n",
      "1. La inteligencia artificial es una rama de la informática que busca crear máquinas capaces de realizar tareas que requieren inteligencia humana.\n",
      "2. Los modelos de lenguaje grande (LLM) son sistemas de IA entrenados en enormes cantidades de texto para generar y comprender lenguaje natural.\n",
      "3. RAG (Retrieval-Augmented Generation) combina la búsqueda de información relevante con la generación de texto para producir respuestas más precisas.\n",
      "\n",
      "🤖 Respuesta:\n",
      "Según el contexto proporcionado, no tengo información sobre cuál es la capital de Francia.\n"
     ]
    }
   ],
   "source": [
    "query3 = \"¿Cuál es la capital de Francia?\"\n",
    "\n",
    "print(f\"❓ Pregunta: {query3}\")\n",
    "print(\"\\n\" + \"=\"*50)\n",
    "\n",
    "# Paso 1: Recuperación\n",
    "relevant_docs = simple_retrieval(query3, documents)\n",
    "print(f\"📋 Documentos relevantes ({len(relevant_docs)}):\")\n",
    "for i, doc in enumerate(relevant_docs, 1):\n",
    "    print(f\"{i}. {doc}\")\n",
    "\n",
    "# Paso 2: Generación\n",
    "if relevant_docs:\n",
    "    context = \"\\n\".join(relevant_docs)\n",
    "    response = generate_response(client, query3, context)\n",
    "    print(f\"\\n🤖 Respuesta:\")\n",
    "    print(response)\n",
    "else:\n",
    "    print(\"❌ No se encontraron documentos relevantes\")\n",
    "    print(\"🤖 Respuesta: No tengo información sobre esa pregunta en mi base de documentos.\")"
   ]
  }
 ],
 "metadata": {
  "kernelspec": {
   "display_name": ".venv",
   "language": "python",
   "name": "python3"
  },
  "language_info": {
   "codemirror_mode": {
    "name": "ipython",
    "version": 3
   },
   "file_extension": ".py",
   "mimetype": "text/x-python",
   "name": "python",
   "nbconvert_exporter": "python",
   "pygments_lexer": "ipython3",
   "version": "3.13.3"
  }
 },
 "nbformat": 4,
 "nbformat_minor": 4
}
